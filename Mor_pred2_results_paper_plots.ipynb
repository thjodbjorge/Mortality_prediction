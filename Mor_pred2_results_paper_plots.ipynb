{
 "cells": [
  {
   "cell_type": "code",
   "execution_count": null,
   "metadata": {},
   "outputs": [],
   "source": [
    "import pandas as pd\n",
    "import numpy as np\n",
    "from sklearn.model_selection import train_test_split, KFold\n",
    "import statsmodels.api as sm\n",
    "from sklearn.metrics import accuracy_score, roc_auc_score, recall_score, precision_score, confusion_matrix, log_loss\n",
    "from sklearn.metrics import precision_recall_curve, roc_curve\n",
    "import matplotlib.pyplot as plt\n",
    "import pickle\n",
    "from sklearn.utils import resample\n",
    "from sksurv.metrics import concordance_index_censored\n",
    "import lifelines as ll\n",
    "import sys\n",
    "sys.path.append('/odinn/users/thjodbjorge/Python_functions/')\n",
    "from Calculate_score import calculate_metrics, make_class_table\n",
    "from R_functions import R_pROC,R_pROC_compareROC,R_pROC_compareROC_boot, R_pROC_AUC, R_timeROC, R_timeROC_CI, R_timeROC_pval, R_NRIbin,R_NRIcens,R_NRIcensipw, R_censROC, R_hoslem, R_Greenwood_Nam\n",
    "\n",
    "\n",
    "# raw_data = pd.read_csv('/odinn/users/thjodbjorge/Proteomics/Data/raw_with_info.csv',index_col = 'Barcode2d' )\n",
    "probe_info = pd.read_csv('/odinn/users/thjodbjorge/Proteomics/Data/probe_info.csv', index_col = 'SeqId')\n",
    "\n",
    "pn_info = pd.read_csv('/odinn/users/thjodbjorge/Proteomics/Data/pn_info_Mor/pn_info_Mor_event.csv',index_col = 'Barcode2d' )\n",
    "probes_to_skip = pd.read_csv('/odinn/users/thjodbjorge/Proteomics/Data/probes_to_skip.txt')['probe']\n",
    "nopro = pd.read_csv('/odinn/users/thjodbjorge/Proteomics/Data/no_protein_probes.txt', header = None)[0] # non-proten probes that were included \n",
    "probes_to_skip = set(probes_to_skip).union(set(nopro))"
   ]
  },
  {
   "cell_type": "code",
   "execution_count": null,
   "metadata": {},
   "outputs": [],
   "source": [
    "folder = '/odinn/users/thjodbjorge/Proteomics/Mortality2/'\n",
    "feat_folder = 'Features2/'\n",
    "pred_folder = 'Predictions3/'\n",
    "pred_folder_update = 'Predictions4/'\n",
    "plots = 'Plots5_plots_in_paper/'\n",
    "save_plot = False\n",
    "updated_predictions=True\n",
    "\n",
    "endpoints = ['death']\n",
    "# endpoints = ['Neoplasm','Nervous','Circulatory','Respiratory','Other','death'] \n",
    "time_to_event = pn_info.time_to_death\n",
    "no_event_before = pn_info.no_death_before\n",
    "for endpoint in endpoints:\n",
    "    if endpoint == 'death':\n",
    "        use_event = pn_info.event_death\n",
    "    elif endpoint == 'Neoplasm':\n",
    "        use_event = pn_info.event_death & (pn_info.Cause_of_death == 'Neoplasm')\n",
    "    elif endpoint == 'Nervous':\n",
    "        use_event = pn_info.event_death & (pn_info.Cause_of_death == 'Nervous')\n",
    "    elif endpoint == 'Circulatory':\n",
    "        use_event = pn_info.event_death & (pn_info.Cause_of_death == 'Circulatory')\n",
    "    elif endpoint == 'Respiratory':\n",
    "        use_event = pn_info.event_death & (pn_info.Cause_of_death == 'Respiratory')\n",
    "    elif endpoint == 'Other':\n",
    "        use_event = pn_info.event_death & (pn_info.Cause_of_death == 'Other')\n",
    "\n",
    "y = []\n",
    "for i in range(1,19):\n",
    "    y.append(use_event & (time_to_event <= i))\n",
    "\n",
    "kf = KFold(n_splits=10, random_state=10, shuffle=False) \n",
    "I_train_main, I_test_main = train_test_split(pn_info.index, train_size=0.7, random_state = 10)\n",
    "# I_val_main, I_test_main = train_test_split(I_test_main, train_size=0.5, random_state = 10)\n",
    "\n",
    "\n",
    "file = open(folder+\"{}_keep_samples.pkl\".format('Mor'),'rb')\n",
    "keep_samples_dict = pickle.load(file)\n",
    "\n",
    "# print(keep_samples_dict.keys())"
   ]
  },
  {
   "cell_type": "code",
   "execution_count": null,
   "metadata": {},
   "outputs": [],
   "source": [
    "VERY_SMALL_SIZE = 12\n",
    "SMALL_SIZE = 14\n",
    "MEDIUM_SIZE = 16\n",
    "BIGGER_SIZE = 16\n",
    "\n",
    "plt.rc('font', size=SMALL_SIZE)          # controls default text sizes\n",
    "plt.rc('axes', titlesize=BIGGER_SIZE)     # fontsize of the axes title\n",
    "plt.rc('axes', labelsize=MEDIUM_SIZE)    # fontsize of the x and y labels\n",
    "plt.rc('xtick', labelsize=SMALL_SIZE)    # fontsize of the tick labels\n",
    "plt.rc('ytick', labelsize=SMALL_SIZE)    # fontsize of the tick labels\n",
    "plt.rc('legend', fontsize=VERY_SMALL_SIZE)    # legend fontsize\n",
    "plt.rc('figure', titlesize=BIGGER_SIZE) "
   ]
  },
  {
   "cell_type": "code",
   "execution_count": null,
   "metadata": {},
   "outputs": [],
   "source": [
    "line_cycle = ['-','--','-.',':','-','--','-.',':','-','--','-.',':','-','--','-.',':']\n",
    "# color_cycle = ['#d73027','#fc8d59','#fee090','#e0f3f8','#91bfdb','#4575b4']\n",
    "# color_cycle = ['#a6cee3','#1f78b4','#b2df8a','#33a02c']\n",
    "# color_cycle = ['C0','C1','C2','C3','C4','C5','C6','C7','C8','C9']\n",
    "# color_cycle =[\"#E69F00\", \"#56B4E9\", \"#009E73\", \"#0072B2\", \"#D55E00\", \"#CC79A7\", \"#F0E442\"]\n",
    "# color_cycle = [(0,0,0),(0.9,0.6,0),(0.35,0.7,0.9),(0,0.6,0.5)]\n",
    "# color_cycle = [\"#E69F00\", \"#56B4E9\", \"#009E73\", \"#F0E442\",\"#0072B2\", \"#D55E00\", \"#CC79A7\", \"#000000\"]\n",
    "color_cycle = [ \"#000000\", \"#CC79A7\",\"#0072B2\", \"#D55E00\",\"#009E73\",\"#E69F00\",\"#56B4E9\",\"#F0E442\"]"
   ]
  },
  {
   "cell_type": "code",
   "execution_count": null,
   "metadata": {},
   "outputs": [],
   "source": [
    "for i,c in enumerate(color_cycle):\n",
    "    plt.scatter(i,i,color = c)"
   ]
  },
  {
   "cell_type": "code",
   "execution_count": null,
   "metadata": {},
   "outputs": [],
   "source": [
    "from matplotlib.font_manager import findfont, FontProperties, findSystemFonts\n",
    "font = findfont(FontProperties(family=['sans-serif']))\n",
    "print(font)\n",
    "# findSystemFonts()"
   ]
  },
  {
   "cell_type": "markdown",
   "metadata": {},
   "source": [
    "### Select dataset and k\n"
   ]
  },
  {
   "cell_type": "code",
   "execution_count": null,
   "metadata": {},
   "outputs": [],
   "source": [
    "dataset = 'Old_18105'\n",
    "k_plot=4\n",
    "k = k_plot\n",
    "plot_folder = ''"
   ]
  },
  {
   "cell_type": "markdown",
   "metadata": {},
   "source": [
    "## Load test predictions"
   ]
  },
  {
   "cell_type": "code",
   "execution_count": null,
   "metadata": {
    "scrolled": true
   },
   "outputs": [],
   "source": [
    "try: \n",
    "    file = open(folder+pred_folder + \"{}_{}_test_prediction.pkl\".format(endpoint,dataset),'rb')\n",
    "    pred_test_dict = pickle.load(file)\n",
    "except:\n",
    "    print('No test predictions')\n",
    "\n",
    "if updated_predictions:\n",
    "    print('Include updated predictiions')\n",
    "    file = open(folder+pred_folder_update + \"{}_{}_test_prediction.pkl\".format(endpoint,dataset),'rb')\n",
    "    pred_test_dict_update = pickle.load(file)   \n",
    "    print(pred_test_dict['{}_y{}_baseline2_lr'.format(dataset,k)][:5])\n",
    "    for key,value in pred_test_dict_update.items():\n",
    "        print(key)\n",
    "        pred_test_dict[key] = value\n",
    "    print(pred_test_dict['{}_y{}_baseline2_lr'.format(dataset,k)][:5])\n",
    "# print(pred_test_dict.keys())\n",
    "\n",
    "keep_samples = keep_samples_dict[dataset]\n",
    "\n",
    "I_train = I_train_main.intersection(keep_samples)#.intersection(have_prs)\n",
    "I_test = I_test_main.intersection(keep_samples)#.intersection(have_prs)\n",
    "\n",
    "y_train = y[k][I_train]\n",
    "y_test= y[k][I_test]\n",
    "\n",
    "print(len(I_test))"
   ]
  },
  {
   "cell_type": "markdown",
   "metadata": {},
   "source": [
    "## Metrics for different k"
   ]
  },
  {
   "cell_type": "markdown",
   "metadata": {},
   "source": [
    "#### agesex, baseline, gdf15, protein"
   ]
  },
  {
   "cell_type": "code",
   "execution_count": null,
   "metadata": {
    "scrolled": true
   },
   "outputs": [],
   "source": [
    "k=k_plot\n",
    "\n",
    "# K = [0,1,2,3,4,5,6,7,8,9,10,11,12,13]\n",
    "K = [0,1,2,3,4,5,6,7,8,9,10,11,12,13,14]\n",
    "K_true = [l+1 for l in K]\n",
    "# K= [0]\n",
    "pred_k = []\n",
    "Cindex = np.zeros([len(K),4,4])\n",
    "scores = np.zeros([len(K),4,8])\n",
    "for j,k in enumerate(K):\n",
    "    keys = ['{}_y{}_agesex_lr'.format(dataset,k),'{}_y{}_baseline2_lr'.format(dataset,k),\n",
    "           '{}_y{}_agesexGDF15_lr'.format(dataset,k),'{}_y{}_agesexprotein_l1'.format(dataset,k)]\n",
    "\n",
    "    pred_key = []\n",
    "    for i,key in enumerate(keys):\n",
    "        pred = pred_test_dict[key]\n",
    "        baseline = pred_test_dict[keys[1]]\n",
    "        scores[j,i] = calculate_metrics(pred,baseline,y[k][I_test])    \n"
   ]
  },
  {
   "cell_type": "code",
   "execution_count": null,
   "metadata": {},
   "outputs": [],
   "source": [
    "name_keys = ['Age+sex','Baseline','Age+sex+GDF15','Age+sex+Protein']\n",
    "fig=plt.figure(figsize=[10,6])\n",
    "for i, key in enumerate(name_keys):\n",
    "#     scores = score_dict[key]\n",
    "    plt.plot(K_true,scores[:,i,0],linestyle = line_cycle[-i-1],color = color_cycle[i])\n",
    "    plt.ylabel('AUC')\n",
    "    plt.xlabel('Event within years')\n",
    "    plt.xticks(K_true)\n",
    "#     plt.title(dataset)\n",
    "\n",
    "plt.legend(name_keys)\n",
    "plt.grid()\n",
    "if save_plot:\n",
    "    plt.savefig(folder+plots+plot_folder+'{}_{}_AUC.png'.format(endpoint,dataset),bbox_inches=\"tight\")\n",
    "plt.show()\n",
    "\n",
    "\n",
    "fig=plt.figure(figsize=[10,6])\n",
    "for i, key in enumerate(name_keys):\n",
    "#     scores = score_dict[key]\n",
    "    plt.plot(K_true,scores[:,i,4],linestyle = line_cycle[-i-1],color = color_cycle[i])\n",
    "    plt.ylabel('IDI')\n",
    "    plt.xlabel('Event within years')\n",
    "    plt.xticks(K_true)\n",
    "#     plt.title(dataset)\n",
    "\n",
    "plt.legend(name_keys)\n",
    "plt.grid()\n",
    "if save_plot:\n",
    "    plt.savefig(folder+plots+plot_folder+'{}_{}_IDI.png'.format(endpoint,dataset),bbox_inches=\"tight\")\n",
    "plt.show()\n",
    "\n"
   ]
  },
  {
   "cell_type": "markdown",
   "metadata": {},
   "source": [
    "### Baseline and noGDF15"
   ]
  },
  {
   "cell_type": "code",
   "execution_count": null,
   "metadata": {
    "scrolled": true
   },
   "outputs": [],
   "source": [
    "k=k_plot\n",
    "\n",
    "# K = [0,1,2,3,4,5,6,7,8,9,10,11,12,13]\n",
    "K = [0,1,2,3,4,5,6,7,8,9,10,11,12,13,14]\n",
    "K_true = [l+1 for l in K]\n",
    "# K= [0]\n",
    "pred_k = []\n",
    "Cindex = np.zeros([len(K),8,4])\n",
    "scores = np.zeros([len(K),8,8])\n",
    "for j,k in enumerate(K):\n",
    "    keys = ['{}_y{}_agesex_lr'.format(dataset,k),'{}_y{}_baseline2_lr'.format(dataset,k),\n",
    "            '{}_y{}_agesexGDF15_lr'.format(dataset,k),'{}_y{}_baseline2GDF15_lr'.format(dataset,k),\n",
    "            '{}_y{}_agesexproteinnoGDF15_l1'.format(dataset,k),'{}_y{}_baseline2proteinnoGDF15_l1'.format(dataset,k),\n",
    "           '{}_y{}_agesexprotein_l1'.format(dataset,k),'{}_y{}_baseline2protein_l1'.format(dataset,k),]\n",
    "\n",
    "    pred_key = []\n",
    "    for i,key in enumerate(keys):\n",
    "        pred = pred_test_dict[key]\n",
    "        baseline = pred_test_dict[keys[0]]\n",
    "        scores[j,i] = calculate_metrics(pred,baseline,y[k][I_test])        \n"
   ]
  },
  {
   "cell_type": "code",
   "execution_count": null,
   "metadata": {},
   "outputs": [],
   "source": [
    "name_keys = ['Age+sex', 'Baseline','Age+sex+GDF15','Baseline +GDF15',\n",
    "             'Age+sex+protein-GDF15','Baseline+protein-GDF15','Age+sex+protein','Baseline+protein']\n",
    "fig=plt.figure(figsize=[10,6])\n",
    "for i, key in enumerate(name_keys):\n",
    "#     scores = score_dict[key]\n",
    "#     plt.plot(K_true,scores[:,i,0],linestyle = line_cycle[i%2],color = color_cycle[int(i/2)])\n",
    "    plt.plot(K_true,scores[:,i,0],linestyle = line_cycle[int(i/2)],color = color_cycle[i%2])\n",
    "    plt.ylabel('AUC')\n",
    "    plt.xlabel('Event within years')\n",
    "    plt.xticks(K_true)\n",
    "#     plt.title(dataset)\n",
    "\n",
    "plt.legend(name_keys)\n",
    "plt.grid()\n",
    "if save_plot:\n",
    "    plt.savefig(folder+plots+plot_folder+'{}_{}_AUC_wbasewnoGDF15.png'.format(endpoint,dataset),bbox_inches=\"tight\")\n",
    "plt.show()\n",
    "\n"
   ]
  },
  {
   "cell_type": "markdown",
   "metadata": {},
   "source": [
    "### Other protein predictors"
   ]
  },
  {
   "cell_type": "markdown",
   "metadata": {},
   "source": [
    "#### Age+sex+ protein model"
   ]
  },
  {
   "cell_type": "code",
   "execution_count": null,
   "metadata": {
    "scrolled": true
   },
   "outputs": [],
   "source": [
    "k=k_plot\n",
    "\n",
    "# K = [0,1,2,3,4,5,6,7,8,9,10,11,12,13]\n",
    "K = [0,1,2,3,4,5,6,7,8,9,10,11,12,13,14]\n",
    "K_true = [l+1 for l in K]\n",
    "# K= [0]\n",
    "pred_k = []\n",
    "Cindex = np.zeros([len(K),10,4])\n",
    "scores = np.zeros([len(K),10,8])\n",
    "for j,k in enumerate(K):\n",
    "    keys = ['{}_y{}_agesex_lr'.format(dataset,k),\n",
    "            '{}_y{}_agesexPAD2_lr'.format(dataset,k),'{}_y{}_agesexGDF15_lr'.format(dataset,k),'{}_y{}_agesexelife_lr'.format(dataset,k),\n",
    "            '{}_y{}_agesexhopro_lr'.format(dataset,k),'{}_y{}_agesexprotein_l1'.format(dataset,k)]\n",
    "\n",
    "#             'predy{}_{}_ageelife_cox'.format(k,dataset),  'predy{}_{}_agesexelife_cox'.format(k,dataset),\n",
    "    pred_key = []\n",
    "    for i,key in enumerate(keys):\n",
    "        pred = pred_test_dict[key]\n",
    "        baseline = pred_test_dict[keys[1]]\n",
    "        scores[j,i] = calculate_metrics(pred,baseline,y[k][I_test])    \n"
   ]
  },
  {
   "cell_type": "code",
   "execution_count": null,
   "metadata": {},
   "outputs": [],
   "source": [
    "name_keys = ['Age+Sex','AS+PAD','AS+GDF15','AS+7 proteins(Tanaka et al.) ','AS+10 proteins(Ho et al.)','AS+Multiple proteins']\n",
    "fig=plt.figure(figsize=[10,6])\n",
    "for i, key in enumerate(name_keys):\n",
    "#     scores = score_dict[key]\n",
    "    plt.plot(K_true,scores[:,i,0],linestyle = line_cycle[-i-1],color = color_cycle[i])\n",
    "    plt.ylabel('AUC')\n",
    "    plt.xlabel('Event within years')\n",
    "    plt.xticks(K_true)\n",
    "#     plt.title(dataset)\n",
    "\n",
    "plt.legend(name_keys)\n",
    "plt.grid()\n",
    "if save_plot:\n",
    "    plt.savefig(folder+plots+plot_folder+'{}_{}_AUC_agesex_otherproteins.png'.format(endpoint,dataset),bbox_inches=\"tight\")\n",
    "plt.show()\n",
    "\n"
   ]
  },
  {
   "cell_type": "markdown",
   "metadata": {},
   "source": [
    "#### Baseline + protein model"
   ]
  },
  {
   "cell_type": "code",
   "execution_count": null,
   "metadata": {
    "scrolled": true
   },
   "outputs": [],
   "source": [
    "k=k_plot\n",
    "\n",
    "# K = [0,1,2,3,4,5,6,7,8,9,10,11,12,13]\n",
    "K = [0,1,2,3,4,5,6,7,8,9,10,11,12,13,14]\n",
    "K_true = [l+1 for l in K]\n",
    "# K= [0]\n",
    "pred_k = []\n",
    "Cindex = np.zeros([len(K),10,4])\n",
    "scores = np.zeros([len(K),10,8])\n",
    "for j,k in enumerate(K):\n",
    "    keys = ['{}_y{}_baseline2_lr'.format(dataset,k),'{}_y{}_baseline2PAD2_lr'.format(dataset,k),'{}_y{}_baseline2GDF15_lr'.format(dataset,k), \n",
    "            '{}_y{}_baseline2elife_lr'.format(dataset,k),'{}_y{}_baseline2hopro_lr'.format(dataset,k),'{}_y{}_baseline2protein_l1'.format(dataset,k)]\n",
    "\n",
    "#             'predy{}_{}_ageelife_cox'.format(k,dataset),  'predy{}_{}_agesexelife_cox'.format(k,dataset),\n",
    "    pred_key = []\n",
    "    for i,key in enumerate(keys):\n",
    "        pred = pred_test_dict[key]\n",
    "        baseline = pred_test_dict[keys[1]]\n",
    "        scores[j,i] = calculate_metrics(pred,baseline,y[k][I_test])    \n"
   ]
  },
  {
   "cell_type": "code",
   "execution_count": null,
   "metadata": {},
   "outputs": [],
   "source": [
    "name_keys = ['Baseline','B+PAD','B+GDF15','B+7 proteins(Tanaka et al.)','B+10 proteins(Ho et al.)','B+Multiple proteins']\n",
    "fig=plt.figure(figsize=[10,6])\n",
    "for i, key in enumerate(name_keys):\n",
    "#     scores = score_dict[key]\n",
    "    plt.plot(K_true,scores[:,i,0],linestyle = line_cycle[-i-1],color = color_cycle[i])\n",
    "    plt.ylabel('AUC')\n",
    "    plt.xlabel('Event within years')\n",
    "    plt.xticks(K_true)\n",
    "#     plt.title(dataset)\n",
    "\n",
    "plt.legend(name_keys)\n",
    "plt.grid()\n",
    "if save_plot:\n",
    "    plt.savefig(folder+plots+plot_folder+'{}_{}_AUC_baseline_otherproteins.png'.format(endpoint,dataset),bbox_inches=\"tight\")\n",
    "plt.show()\n",
    "\n",
    "\n"
   ]
  },
  {
   "cell_type": "markdown",
   "metadata": {},
   "source": [
    "#### Age+sex+ protein model + suPAR"
   ]
  },
  {
   "cell_type": "code",
   "execution_count": null,
   "metadata": {
    "scrolled": true
   },
   "outputs": [],
   "source": [
    "k=k_plot\n",
    "\n",
    "# K = [0,1,2,3,4,5,6,7,8,9,10,11,12,13]\n",
    "K = [0,1,2,3,4,5,6,7,8,9,10,11,12,13,14]\n",
    "K_true = [l+1 for l in K]\n",
    "# K= [0]\n",
    "pred_k = []\n",
    "Cindex = np.zeros([len(K),10,4])\n",
    "scores = np.zeros([len(K),10,8])\n",
    "for j,k in enumerate(K):\n",
    "    keys = ['{}_y{}_agesex_lr'.format(dataset,k),'{}_y{}_agesexPAD2_lr'.format(dataset,k),\n",
    "            '{}_y{}_agesexPLAUR_lr'.format(dataset,k),'{}_y{}_agesexGDF15_lr'.format(dataset,k),'{}_y{}_agesexelife_lr'.format(dataset,k),\n",
    "            '{}_y{}_agesexhopro_lr'.format(dataset,k),'{}_y{}_agesexprotein_l1'.format(dataset,k)]\n",
    "\n",
    "#             'predy{}_{}_ageelife_cox'.format(k,dataset),  'predy{}_{}_agesexelife_cox'.format(k,dataset),\n",
    "    pred_key = []\n",
    "    for i,key in enumerate(keys):\n",
    "        pred = pred_test_dict[key]\n",
    "        baseline = pred_test_dict[keys[1]]\n",
    "        scores[j,i] = calculate_metrics(pred,baseline,y[k][I_test])    \n"
   ]
  },
  {
   "cell_type": "code",
   "execution_count": null,
   "metadata": {},
   "outputs": [],
   "source": [
    "name_keys = ['Age+Sex','AS+PAD','AS+PLAUR','AS+GDF15','AS+7 proteins(Tanaka et al.) ','AS+10 proteins(Ho et al.)','AS+Multiple proteins']\n",
    "fig=plt.figure(figsize=[10,6])\n",
    "for i, key in enumerate(name_keys):\n",
    "#     scores = score_dict[key]\n",
    "    plt.plot(K_true,scores[:,i,0],linestyle = line_cycle[-i-1],color = color_cycle[i])\n",
    "    plt.ylabel('AUC')\n",
    "    plt.xlabel('Event within years')\n",
    "    plt.xticks(K_true)\n",
    "#     plt.title(dataset)\n",
    "\n",
    "plt.legend(name_keys)\n",
    "plt.grid()\n",
    "if save_plot:\n",
    "    plt.savefig(folder+plots+plot_folder+'{}_{}_AUC_agesex_otherproteins2.png'.format(endpoint,dataset),bbox_inches=\"tight\")\n",
    "plt.show()\n",
    "\n"
   ]
  },
  {
   "cell_type": "markdown",
   "metadata": {},
   "source": [
    "#### Baseline + protein model"
   ]
  },
  {
   "cell_type": "code",
   "execution_count": null,
   "metadata": {
    "scrolled": true
   },
   "outputs": [],
   "source": [
    "k=k_plot\n",
    "\n",
    "# K = [0,1,2,3,4,5,6,7,8,9,10,11,12,13]\n",
    "K = [0,1,2,3,4,5,6,7,8,9,10,11,12,13,14]\n",
    "K_true = [l+1 for l in K]\n",
    "# K= [0]\n",
    "pred_k = []\n",
    "Cindex = np.zeros([len(K),10,4])\n",
    "scores = np.zeros([len(K),10,8])\n",
    "for j,k in enumerate(K):\n",
    "    keys = ['{}_y{}_baseline2_lr'.format(dataset,k),'{}_y{}_baseline2PAD2_lr'.format(dataset,k),'{}_y{}_baseline2PLAUR_lr'.format(dataset,k),\n",
    "            '{}_y{}_baseline2GDF15_lr'.format(dataset,k), \n",
    "            '{}_y{}_baseline2elife_lr'.format(dataset,k),'{}_y{}_baseline2hopro_lr'.format(dataset,k),'{}_y{}_baseline2protein_l1'.format(dataset,k)]\n",
    "\n",
    "#             'predy{}_{}_ageelife_cox'.format(k,dataset),  'predy{}_{}_agesexelife_cox'.format(k,dataset),\n",
    "    pred_key = []\n",
    "    for i,key in enumerate(keys):\n",
    "        pred = pred_test_dict[key]\n",
    "        baseline = pred_test_dict[keys[1]]\n",
    "        scores[j,i] = calculate_metrics(pred,baseline,y[k][I_test])    \n"
   ]
  },
  {
   "cell_type": "code",
   "execution_count": null,
   "metadata": {},
   "outputs": [],
   "source": [
    "name_keys = ['Baseline','B+PAD','B+PLAUR','B+GDF15','B+7 proteins(Tanaka et al.)','B+10 proteins(Ho et al.)','B+Multiple proteins']\n",
    "fig=plt.figure(figsize=[10,6])\n",
    "for i, key in enumerate(name_keys):\n",
    "#     scores = score_dict[key]\n",
    "    plt.plot(K_true,scores[:,i,0],linestyle = line_cycle[-i-1],color = color_cycle[i])\n",
    "    plt.ylabel('AUC')\n",
    "    plt.xlabel('Event within years')\n",
    "    plt.xticks(K_true)\n",
    "#     plt.title(dataset)\n",
    "\n",
    "plt.legend(name_keys)\n",
    "plt.grid()\n",
    "if save_plot:\n",
    "    plt.savefig(folder+plots+plot_folder+'{}_{}_AUC_baseline_otherproteins2.png'.format(endpoint,dataset),bbox_inches=\"tight\")\n",
    "plt.show()\n",
    "\n",
    "\n"
   ]
  },
  {
   "cell_type": "markdown",
   "metadata": {},
   "source": [
    "### ROC curve"
   ]
  },
  {
   "cell_type": "code",
   "execution_count": null,
   "metadata": {},
   "outputs": [],
   "source": [
    "k=k_plot\n",
    "keys = ['{}_y{}_agesex_lr'.format(dataset,k),'{}_y{}_baseline2_lr'.format(dataset,k),\n",
    "       '{}_y{}_agesexGDF15_lr'.format(dataset,k),'{}_y{}_agesexprotein_l1'.format(dataset,k)]\n",
    "\n",
    "base_key = '{}_y{}_baseline2_lr'.format(dataset,k)\n",
    "\n",
    "roc_key = []\n",
    "prere_key = []\n",
    "for key in keys:\n",
    "    pred = pred_test_dict[key]\n",
    "    pred = pd.DataFrame(pred,index=I_test)[0]\n",
    "#     pred_base = pd.DataFrame( pred_test_dict[base_key][0], index=I_test)[0]\n",
    "    \n",
    "    pre, re, th = precision_recall_curve(y[k][I_test],pred)\n",
    "    fpr,tpr,th =roc_curve(y[k][I_test],pred)\n",
    "    print(th[1:].max())\n",
    "    roc_key.append([fpr,tpr,th])\n",
    "    prere_key.append([pre,re,th])"
   ]
  },
  {
   "cell_type": "code",
   "execution_count": null,
   "metadata": {
    "scrolled": true
   },
   "outputs": [],
   "source": [
    "\n",
    "name_keys = ['Age+sex','Baseline','Age+sex+GDF15','Age+sex+Protein']\n",
    "# K = [0,1,2,3,4,5,6,7,8,9,10,11,12,13]\n",
    "# K = [0,1,2,3,4,5,6,7,8,9,10,11,12,13,14]\n",
    "K=[k_plot]\n",
    "K_true = [l+1 for l in K]\n",
    "# K= [0]\n",
    "pred_k = []\n",
    "Cindex = np.zeros([len(K),4,4])\n",
    "scores = np.zeros([len(K),4,8])\n",
    "for j,k in enumerate(K):\n",
    "    keys = ['{}_y{}_agesex_lr'.format(dataset,k),'{}_y{}_baseline2_lr'.format(dataset,k),\n",
    "           '{}_y{}_agesexGDF15_lr'.format(dataset,k),'{}_y{}_agesexprotein_l1'.format(dataset,k)]\n",
    "\n",
    "    pred_key = []\n",
    "    for i,key in enumerate(keys):\n",
    "        pred = pred_test_dict[key]\n",
    "        baseline = pred_test_dict[keys[0]]\n",
    "        scores[j,i] = calculate_metrics(pred,baseline,y[k][I_test])        \n"
   ]
  },
  {
   "cell_type": "code",
   "execution_count": null,
   "metadata": {},
   "outputs": [],
   "source": [
    "\n",
    "k=k_plot\n",
    "fig = plt.figure(figsize=[6,6])\n",
    "for i in [0,1,2,3]:\n",
    "    fpr,tpr,th = roc_key[i]\n",
    "    plt.plot(fpr,tpr,'C{}'.format(i),linestyle = line_cycle[-i-1],color = color_cycle[i])\n",
    "\n",
    "#     plt.plot(th[1:],fpr[1:])\n",
    "#     plt.plot(th[1:],tpr[1:])\n",
    "#     print(scores[k,i,0])\n",
    "plt.legend(['Age+sex(AUC = {:0.3f})'.format(scores[0,0,0]),\n",
    "            'Baseline (AUC = {:0.3f})'.format(scores[0,1,0]),\n",
    "            'Age+sex+GDF15 (AUC = {:0.3f})'.format(scores[0,2,0]),\n",
    "           'Age+sex+Protein (AUC = {:0.3f})'.format(scores[0,3,0])])\n",
    "plt.xlabel('False positive rate')\n",
    "plt.ylabel('True positive rate')\n",
    "# plt.title('ROC- curve')\n",
    "# dim = int((ROC.shape[0]-1)/3)\n",
    "\n",
    "if save_plot:\n",
    "    plt.savefig(folder+plots+plot_folder+'{}_{}_ROC_y{}.png'.format(endpoint,dataset,k))\n",
    "# print(score[k,i])\n",
    "\n"
   ]
  },
  {
   "cell_type": "markdown",
   "metadata": {},
   "source": [
    "### Calibration"
   ]
  },
  {
   "cell_type": "code",
   "execution_count": null,
   "metadata": {},
   "outputs": [],
   "source": [
    "k = k_plot\n",
    "# k=4\n",
    "keys = ['{}_y{}_agesex_lr'.format(dataset,k),'{}_y{}_baseline2_lr'.format(dataset,k),\n",
    "       '{}_y{}_agesexGDF15_lr'.format(dataset,k),'{}_y{}_agesexprotein_l1'.format(dataset,k)]\n",
    "\n",
    "name_keys = ['Age+sex', 'Baseline','Age+sex+GDF15','Age+sex+protein']\n",
    "\n",
    "# event_comp = pd.DataFrame(np.where(y[14][I_test], 1,np.where(y_cens[14][I_test],2,0)),index=I_test)\n",
    "\n",
    "fig = plt.figure(figsize = [10,11])\n",
    "for j,key in enumerate(keys):\n",
    "\n",
    "\n",
    "    pred = pred_test_dict[key]\n",
    "\n",
    "    risk_bins =  np.digitize(pred,np.quantile(pred,np.arange(0,1.01,0.05)))\n",
    "    pred= pd.DataFrame(pred,index=I_test)\n",
    "\n",
    "    fig.add_subplot(2,2,j+1)\n",
    "    KM = [] \n",
    "    predicted = []\n",
    "    CI = []\n",
    "    for i in range(1,len(np.arange(0,1.01,0.05))):\n",
    "        kmf =  ll.fitters.kaplan_meier_fitter.KaplanMeierFitter()\n",
    "        ind = I_test[risk_bins==i]\n",
    "        kmf.fit(time_to_event[ind],use_event[ind])\n",
    "        KM.append(1-kmf.predict(k+1))\n",
    "        predicted.append(np.mean(pred.loc[ind]))\n",
    "        \n",
    "#         aj = ll.fitters.aalen_johansen_fitter.AalenJohansenFitter()\n",
    "#         aj.fit(durations=tte_test[ind], event_observed=event_comp.loc[ind,0], event_of_interest=1)\n",
    "#         CI.append(aj.predict(10))\n",
    "#         CI.append(np.sum(X_test['event'][ind] & (tte_test[ind]<=10))/len(ind))\n",
    "    print('Number in group: ', len(ind)) \n",
    "    plt.scatter(KM,predicted, color = 'k')\n",
    "#     plt.scatter(CI,predicted,color='r')\n",
    "#     x = KM\n",
    "    predicted = np.array(predicted)[:,0]\n",
    "    plt.plot(np.unique(KM), np.poly1d(np.polyfit(KM, predicted, 1))(np.unique(KM)),color_cycle[0])\n",
    "    plt.plot([0,1],[0,1],'--',color = color_cycle[1])\n",
    "#     plt.plot(np.unique(CI), np.poly1d(np.polyfit(CI, predicted, 1))(np.unique(CI)),'r')\n",
    "    plt.title(name_keys[j])\n",
    "    plt.ylabel('Mean predicted risk')\n",
    "    plt.xlabel('Incidence proportion')\n",
    "    plt.legend(['Best-fit line','Ideal line','Data points'])\n",
    "    plt.grid(True)\n",
    "fig.subplots_adjust(hspace=0.3)\n",
    "#     plt.axis([0,0.5,0,0.5])\n",
    "if save_plot: \n",
    "    plt.savefig(folder+plots+plot_folder+'{}_{}_Calibration_y{}.png'.format(endpoint,dataset,k))"
   ]
  },
  {
   "cell_type": "markdown",
   "metadata": {},
   "source": [
    "## Selected groups "
   ]
  },
  {
   "cell_type": "code",
   "execution_count": null,
   "metadata": {},
   "outputs": [],
   "source": [
    "# dataset = 'Old_cardio_risk_18105'"
   ]
  },
  {
   "cell_type": "code",
   "execution_count": null,
   "metadata": {},
   "outputs": [],
   "source": [
    "# pred = pd.DataFrame(pred_test_dict['{}_y{}_agesexprotein_l1'.format(dataset,k)],index=I_test)[0]\n",
    "pred = pd.DataFrame(pred_test_dict['{}_y{}_agesexprotein_l1'.format(dataset,k)],index=I_test)[0]\n",
    "baseline = pd.DataFrame(pred_test_dict['{}_y{}_baseline2_lr'.format(dataset,k)],index=I_test)[0]"
   ]
  },
  {
   "cell_type": "code",
   "execution_count": null,
   "metadata": {},
   "outputs": [],
   "source": [
    "cancer = pn_info.loc[I_test,'cancer']\n",
    "CAD = ~ pn_info.loc[I_test,'no_CAD_before']\n",
    "MI =  ~ pn_info.loc[I_test,'no_MI_before']\n",
    "stroke = ~ pn_info.loc[I_test,'no_stroke_before']\n",
    "\n",
    "statin = pn_info.loc[I_test, 'statin_estimate_unsure']\n",
    "nosurg = pn_info.loc[I_test,'no_CABG_PCI_before']\n",
    "no_diseases = (~cancer) & (~CAD)&(~MI)&(~stroke)\n",
    "no_risk_factors = ~pn_info.loc[I_test,'T2D'] & ~pn_info.loc[I_test,'Smoker'] & ~statin & (pn_info.loc[I_test,'HTN_treated']==0)\n",
    "no_comor = no_diseases & no_risk_factors\n",
    "# age = (pn_info.loc[I_test,'Age_at_sample_collection_2']>80) & (pn_info.loc[I_test,'Age_at_sample_collection_2']<=105)\n",
    "\n",
    "print(cancer.sum(), CAD.sum(), MI.sum())"
   ]
  },
  {
   "cell_type": "markdown",
   "metadata": {},
   "source": [
    "### (80-105 years old)"
   ]
  },
  {
   "cell_type": "code",
   "execution_count": null,
   "metadata": {},
   "outputs": [],
   "source": [
    "high_risk = (pn_info.loc[I_test,'Age_at_sample_collection_2']>80) & (pn_info.loc[I_test,'Age_at_sample_collection_2']<=105)\n",
    "print(pn_info.loc[I_test,'Age_at_sample_collection_2'][high_risk].mean())\n",
    "print(high_risk.sum())"
   ]
  },
  {
   "cell_type": "code",
   "execution_count": null,
   "metadata": {
    "scrolled": true
   },
   "outputs": [],
   "source": [
    "k=k_plot\n",
    "\n",
    "# K = [0,1,2,3,4,5,6,7,8,9,10,11,12,13]\n",
    "K = [0,1,2,3,4,5,6,7,8,9,10,11,12,13,14]\n",
    "K_true = [l+1 for l in K]\n",
    "# K= [0]\n",
    "pred_k = []\n",
    "Cindex = np.zeros([len(K),6,4])\n",
    "scores = np.zeros([len(K),6,8])\n",
    "for j,k in enumerate(K):\n",
    "    keys = ['{}_y{}_agesex_lr'.format(dataset,k),'{}_y{}_baseline2_lr'.format(dataset,k),'{}_y{}_agesexGDF15_lr'.format(dataset,k),\n",
    "           '{}_y{}_agesexprotein_l1'.format(dataset,k)]#,'{}_y{}_baseline2protein_l1'.format(dataset,k)]\n",
    "\n",
    "    pred_key = []\n",
    "    for i,key in enumerate(keys):\n",
    "        pred = pred_test_dict[key][high_risk]\n",
    "        baseline = pred_test_dict[keys[1]][high_risk]\n",
    "        scores[j,i] = calculate_metrics(pred,baseline,y[k][I_test][high_risk])        "
   ]
  },
  {
   "cell_type": "code",
   "execution_count": null,
   "metadata": {},
   "outputs": [],
   "source": [
    "name_keys = ['Age+sex', 'Baseline','Age+sex+GDF15','Age+sex+protein']\n",
    "fig=plt.figure(figsize=[10,6])\n",
    "for i, key in enumerate(name_keys):\n",
    "#     scores = score_dict[key]\n",
    "    plt.plot(K_true,scores[:,i,0],linestyle = line_cycle[-i-1],color = color_cycle[i])\n",
    "    plt.ylabel('AUC')\n",
    "    plt.xlabel('Event within years')\n",
    "    plt.xticks(K_true)\n",
    "#     plt.title(dataset)\n",
    "\n",
    "plt.legend(name_keys)\n",
    "plt.grid()\n",
    "if save_plot:\n",
    "    plt.savefig(folder+plots+plot_folder+'{}_{}_AUC_80105.png'.format(endpoint,dataset),bbox_inches=\"tight\")\n",
    "plt.show()\n",
    "\n"
   ]
  },
  {
   "cell_type": "markdown",
   "metadata": {},
   "source": [
    "#### Kaplan Meier"
   ]
  },
  {
   "cell_type": "code",
   "execution_count": null,
   "metadata": {},
   "outputs": [],
   "source": [
    "# k = k_plot\n",
    "k=9\n",
    "keys = ['{}_y{}_agesex_lr'.format(dataset,k),'{}_y{}_baseline2_lr'.format(dataset,k),\n",
    "       '{}_y{}_agesexGDF15_lr'.format(dataset,k),'{}_y{}_agesexprotein_l1'.format(dataset,k)]\n",
    "name_keys = ['Age+sex','Baseline','Age+sex+GDF15','Age+sex+Protein']\n",
    "fig = plt.figure(figsize = [20,12])\n",
    "for j,key in enumerate(keys):\n",
    "#     print(keys[j])\n",
    "    # key = 'predy{}_{}_tradstatproteinprs_coxelnet'.format(k,dataset)\n",
    "    pred = pred_test_dict[key][high_risk]\n",
    "\n",
    "    risk_bins =  np.digitize(pred,np.quantile(pred,[0,0.2,0.5,0.8,1]))\n",
    "    pred= pd.DataFrame(pred,index=I_test[high_risk])\n",
    "\n",
    "    fig.add_subplot(2,2,j+1)\n",
    "    KMFs = []\n",
    "    for i in range(4,0,-1):\n",
    "        kmf =  ll.fitters.kaplan_meier_fitter.KaplanMeierFitter()\n",
    "        ind = I_test[high_risk][risk_bins==i]\n",
    "        kmf.fit(time_to_event[ind],use_event[ind])\n",
    "        KMFs.append(kmf)\n",
    "        kmf.plot(loc=slice(0,16),color = color_cycle[i-1])\n",
    "#         print(len(ind), np.mean(pred.loc[ind]))\n",
    "#         print(kmf.event_table.loc[0,'at_risk'],1- kmf.predict(5),1-kmf.predict(10))\n",
    "        if i in [4,1]:\n",
    "            plt.scatter(2, kmf.predict(2),color='r',zorder=10)\n",
    "            plt.scatter(5, kmf.predict(5),color='r',zorder=10)\n",
    "            plt.scatter(10, kmf.predict(10),color='r',zorder=10)\n",
    "            plt.annotate('{:0.3f}'.format(kmf.predict(2)),(2, kmf.predict(2)),(2+0.2, kmf.predict(2)))\n",
    "            plt.annotate('{:0.3f}'.format(kmf.predict(5)),(5, kmf.predict(5)),(5+0.2, kmf.predict(5)))\n",
    "            plt.annotate('{:0.3f}'.format(kmf.predict(10)),(10, kmf.predict(10)),(10+0.2, kmf.predict(10)))\n",
    "    plt.legend(['80%-100%','50%-80%','20%-50%','0%-20%'])  \n",
    "    # plt.legend(['0%-5%','5%-20%','20%-50%','50%-80%','80%-95%','95%-100%'])\n",
    "    plt.axis([0,16,0,1.05])\n",
    "    plt.title(name_keys[j])\n",
    "    plt.ylabel('Survival')\n",
    "    plt.xlabel('Time in years')\n",
    "    plt.grid(True)\n",
    "#     plt.show()\n",
    "if save_plot: \n",
    "    plt.savefig(folder+plots+plot_folder+'{}_{}_KaplanMeier_20p_80105_y{}.png'.format(endpoint,dataset,k))\n"
   ]
  },
  {
   "cell_type": "markdown",
   "metadata": {},
   "source": [
    "###  No diseases"
   ]
  },
  {
   "cell_type": "code",
   "execution_count": null,
   "metadata": {},
   "outputs": [],
   "source": [
    "high_risk = no_diseases.copy()\n",
    "print(pn_info.loc[I_test,'Age_at_sample_collection_2'][high_risk].mean())\n",
    "print(high_risk.sum())\n",
    "print(y[-1][I_test][high_risk].sum())\n",
    "print(y[k_plot][I_test][high_risk].sum())"
   ]
  },
  {
   "cell_type": "code",
   "execution_count": null,
   "metadata": {},
   "outputs": [],
   "source": [
    "I_test[high_risk]"
   ]
  },
  {
   "cell_type": "code",
   "execution_count": null,
   "metadata": {
    "scrolled": true
   },
   "outputs": [],
   "source": [
    "k=k_plot\n",
    "\n",
    "# K = [0,1,2,3,4,5,6,7,8,9,10,11,12,13]\n",
    "K = [0,1,2,3,4,5,6,7,8,9,10,11,12,13,14]\n",
    "K_true = [l+1 for l in K]\n",
    "# K= [0]\n",
    "pred_k = []\n",
    "Cindex = np.zeros([len(K),6,4])\n",
    "scores = np.zeros([len(K),6,8])\n",
    "for j,k in enumerate(K):\n",
    "    keys = ['{}_y{}_agesex_lr'.format(dataset,k),'{}_y{}_baseline2_lr'.format(dataset,k),'{}_y{}_agesexGDF15_lr'.format(dataset,k),\n",
    "           '{}_y{}_agesexprotein_l1'.format(dataset,k)]#,'{}_y{}_baseline2protein_l1'.format(dataset,k)]\n",
    "\n",
    "    pred_key = []\n",
    "    for i,key in enumerate(keys):\n",
    "        pred = pred_test_dict[key][high_risk]\n",
    "        baseline = pred_test_dict[keys[1]][high_risk]\n",
    "        scores[j,i] = calculate_metrics(pred,baseline,y[k][I_test][high_risk])        "
   ]
  },
  {
   "cell_type": "code",
   "execution_count": null,
   "metadata": {},
   "outputs": [],
   "source": [
    "name_keys = ['Age+sex', 'Baseline','Age+sex+GDF15','Age+sex+protein']\n",
    "fig=plt.figure(figsize=[10,6])\n",
    "for i, key in enumerate(name_keys):\n",
    "#     scores = score_dict[key]\n",
    "    plt.plot(K_true,scores[:,i,0],linestyle = line_cycle[-i-1],color = color_cycle[i])\n",
    "    plt.ylabel('AUC')\n",
    "    plt.xlabel('Event within years')\n",
    "    plt.xticks(K_true)\n",
    "#     plt.title(dataset)\n",
    "\n",
    "plt.legend(name_keys)\n",
    "plt.grid()\n",
    "if save_plot:\n",
    "    plt.savefig(folder+plots+plot_folder+'{}_{}_AUC_no_diseases.png'.format(endpoint,dataset),bbox_inches=\"tight\")\n",
    "plt.show()\n"
   ]
  },
  {
   "cell_type": "markdown",
   "metadata": {},
   "source": [
    "### Risk quantiles pælingar 60-80 years old"
   ]
  },
  {
   "cell_type": "code",
   "execution_count": null,
   "metadata": {},
   "outputs": [],
   "source": [
    "age = (pn_info.loc[I_test,'Age_at_sample_collection_2']<80) & (pn_info.loc[I_test,'Age_at_sample_collection_2']>=60)\n",
    "high_risk = age"
   ]
  },
  {
   "cell_type": "code",
   "execution_count": null,
   "metadata": {},
   "outputs": [],
   "source": [
    "# k = k_plot\n",
    "k = 9\n",
    "keys = ['{}_y{}_agesex_lr'.format(dataset,k),'{}_y{}_baseline2_lr'.format(dataset,k),\n",
    "       '{}_y{}_agesexGDF15_lr'.format(dataset,k),'{}_y{}_agesexprotein_l1'.format(dataset,k)]\n",
    "name_keys = ['Age+sex','Baseline','Age+sex+GDF15','Age+sex+Protein']\n",
    "fig = plt.figure(figsize = [20,12])\n",
    "\n",
    "split_groups = {}\n",
    "for j,key in enumerate(keys):\n",
    "#     print(keys[j])\n",
    "    # key = 'predy{}_{}_tradstatproteinprs_coxelnet'.format(k,dataset)\n",
    "    pred = pred_test_dict[key][high_risk]\n",
    "\n",
    "    risk_bins =  np.digitize(pred,np.quantile(pred,[0,0.05,0.2,0.8,0.95,1]))\n",
    "    pred= pd.DataFrame(pred,index=I_test[high_risk])\n",
    "\n",
    "    fig.add_subplot(2,2,j+1)\n",
    "    KMFs = []\n",
    "    split_group = []\n",
    "    for i in range(5,0,-1):\n",
    "        kmf =  ll.fitters.kaplan_meier_fitter.KaplanMeierFitter()\n",
    "        ind = I_test[high_risk][risk_bins==i]\n",
    "        split_group.append([time_to_event[ind],use_event[ind]])\n",
    "        kmf.fit(time_to_event[ind],use_event[ind])\n",
    "        KMFs.append(kmf)\n",
    "        kmf.plot(loc=slice(0,16),color=color_cycle[i-1])\n",
    "#         print(kmf.event_table.loc[0,'at_risk'],1- kmf.predict(5),1-kmf.predict(10))\n",
    "#         print(len(ind), np.mean(pred.loc[ind]))\n",
    "#         print(kmf.event_table.loc[0,'at_risk'],1- kmf.predict(5),1-kmf.predict(10))\n",
    "        if i == 5:\n",
    "            plt.scatter(5, kmf.predict(5),color='r',zorder=10)\n",
    "            plt.scatter(10, kmf.predict(10),color='r',zorder=10)\n",
    "            plt.annotate('{:0.3f}'.format(kmf.predict(5)),(5, kmf.predict(5)),(5+0.2, kmf.predict(5)))\n",
    "            plt.annotate('{:0.3f}'.format(kmf.predict(10)),(10, kmf.predict(10)),(10+0.2, kmf.predict(10)))\n",
    "    split_groups[key] = split_group\n",
    "    plt.legend(['95%-100%','80%-95%','20%-80%','5%-20%','0%-5%'])  \n",
    "    # plt.legend(['0%-5%','5%-20%','20%-50%','50%-80%','80%-95%','95%-100%'])\n",
    "    plt.axis([0,16,0,1.05])\n",
    "    plt.title(name_keys[j])\n",
    "    plt.ylabel('Survival')\n",
    "    plt.xlabel('Time in years')\n",
    "    plt.grid(True)\n",
    "    # plt.show()\n",
    "if save_plot: \n",
    "    plt.savefig(folder+plots+plot_folder+'{}_{}_KaplanMeier_6080_5p_y{}_annotate.png'.format(endpoint,dataset,k),),bbox_inches=\"tight\")\n"
   ]
  },
  {
   "cell_type": "code",
   "execution_count": null,
   "metadata": {},
   "outputs": [],
   "source": [
    "print(keys)\n",
    "split_groups[keys[0]][0][0]\n",
    "ll.statistics.logrank_test(split_groups[keys[1]][0][0],split_groups[keys[3]][0][0],\n",
    "                           split_groups[keys[1]][0][1],split_groups[keys[3]][0][1])"
   ]
  },
  {
   "cell_type": "code",
   "execution_count": null,
   "metadata": {},
   "outputs": [],
   "source": [
    "# %%capture cap --no-stderr\n",
    "# k = k_plot\n",
    "k=9\n",
    "\n",
    "keys = ['{}_y{}_agesex_lr'.format(dataset,k),'{}_y{}_baseline2_lr'.format(dataset,k),\n",
    "       '{}_y{}_agesexGDF15_lr'.format(dataset,k),'{}_y{}_agesexprotein_l1'.format(dataset,k)]\n",
    "name_keys = ['Age+sex','Baseline','Age+sex+GDF15','Age+sex+Protein']\n",
    "fig = plt.figure(figsize = [10,6])\n",
    "for j,key in enumerate(keys):\n",
    "    print(keys[j])\n",
    "    pred = pred_test_dict[key][high_risk]\n",
    "\n",
    "#     risk_bins =  np.digitize(pred,np.quantile(pred,[0,0.05,0.2,0.8,0.95,1]))\n",
    "#     risk_bins =  np.digitize(pred,np.quantile(pred,[0,0.1,0.9,1]))\n",
    "    risk_bins =  np.digitize(pred,np.quantile(pred,[0,0.05,0.95,1]))\n",
    "    pred= pd.DataFrame(pred,index=I_test[high_risk])\n",
    "\n",
    "#     fig.add_subplot(2,2,j+1)\n",
    "    KMFs = []\n",
    "    timeline = np.arange(0,16,0.1)\n",
    "    for i in range(3,0,-1):\n",
    "        kmf =  ll.fitters.kaplan_meier_fitter.KaplanMeierFitter()\n",
    "        ind = I_test[high_risk][risk_bins==i]\n",
    "        kmf.fit(time_to_event[ind],use_event[ind], timeline = timeline)\n",
    "        KMFs.append(kmf)\n",
    "        print(kmf.event_table.loc[0,'at_risk'],1- kmf.predict(5),1-kmf.predict(10))\n",
    "    prob_high_risk = KMFs[0].cumulative_density_at_times(timeline)\n",
    "    prob_low_risk =  KMFs[-1].cumulative_density_at_times(timeline)\n",
    "    plt.plot(timeline,(1-prob_high_risk)/(1-prob_low_risk),linestyle = line_cycle[-j-1],color = color_cycle[j])\n",
    "#     plt.plot(timeline,(1-prob_low_risk)/(1-prob_high_risk))\n",
    "#     plt.plot(timeline,(prob_high_risk)/(prob_low_risk))\n",
    "#     plt.plot(timeline,(prob_low_risk)/(prob_high_risk))\n",
    "#     plt.plot(timeline,1-prob_high_risk )\n",
    "plt.legend(name_keys)\n",
    "plt.axis([0,16,0,1.05])\n",
    "plt.ylabel('Survival of 5% at highest risk \\n divided by \\n survival of 5% at lowest risk')\n",
    "plt.xlabel('Time in years')\n",
    "\n",
    "plt.grid(True)\n",
    "#     plt.show()\n",
    "if save_plot: \n",
    "    plt.savefig(folder+plots+plot_folder+'{}_{}_KaplanMeier_highvslow_6080_5p_y{}.png'.format(endpoint,dataset,k),bbox_inches='tight')\n"
   ]
  },
  {
   "cell_type": "markdown",
   "metadata": {},
   "source": [
    "#### Prediction for different death types, one predictor"
   ]
  },
  {
   "cell_type": "code",
   "execution_count": null,
   "metadata": {},
   "outputs": [],
   "source": [
    "\n",
    "k=k_plot\n",
    "print(k)\n",
    "pred_as = pred_test_dict['{}_y{}_agesex_lr'.format(dataset,k)]\n",
    "pred_baseline = pred_test_dict['{}_y{}_baseline2_lr'.format(dataset,k)]\n",
    "# pred_as = pred_test_dict['{}_y{}_tradcancer_lr'.format(dataset,k)]\n",
    "pred_gdf = pred_test_dict['{}_y{}_agesexGDF15_lr'.format(dataset,k)]\n",
    "# pred_gdf = pred_test_dict['{}_y{}_tradcancerprotein_l1'.format(dataset,k)]\n",
    "pred_pro = pred_test_dict['{}_y{}_agesexprotein_l1'.format(dataset,k)]\n",
    "# pred_pro = pred_test_dict['{}_y{}_tradcancerbloodprotein_l1'.format(dataset,k)]\n",
    "# pred_pro = pred_test_dict['{}_y{}_agesexprotein_l2'.format(dataset,k)]\n",
    "\n",
    "cases = y[k][I_test]\n",
    "print(roc_auc_score(y[k][I_test],pred_pro))\n",
    "\n",
    "# groups = ['C','G','I','J']\n",
    "\n",
    "group_list = []\n",
    "group_list_as = []\n",
    "group_list_baseline = []\n",
    "group_list_gdf =[]\n",
    "pn_info_list = []\n",
    "\n",
    "risk = pred_pro[y[k][I_test]]\n",
    "risk_as=pred_as[y[k][I_test]]\n",
    "risk_gdf = pred_gdf[y[k][I_test]]\n",
    "risk_baseline = pred_baseline[y[k][I_test]]\n",
    "group_list.append(risk)\n",
    "group_list_as.append(risk_as)\n",
    "group_list_baseline.append(risk_baseline)\n",
    "group_list_gdf.append(risk_gdf)\n",
    "pn_info_list.append(pn_info.loc[I_test][y[k][I_test]])\n",
    "\n",
    "groups = ['Neoplasm','Nervous','Circulatory','Respiratory','Other']\n",
    "group_ind = []\n",
    "for g in groups:\n",
    "    ind = pn_info.loc[I_test][y[k][I_test]]['Cause_of_death'] == g\n",
    "#     group_ind.append(ind)\n",
    "    \n",
    "# for g in groups:\n",
    "#     ind = pn_info.loc[I_test][y[k][I_test]]['ICD_group'] == g\n",
    "    risk = pred_pro[y[k][I_test]][ind]\n",
    "    risk_as=pred_as[y[k][I_test]][ind]\n",
    "    risk_gdf = pred_gdf[y[k][I_test]][ind]\n",
    "    risk_baseline = pred_baseline[y[k][I_test]][ind]\n",
    "    group_list.append(risk)\n",
    "    group_list_as.append(risk_as)\n",
    "    group_list_baseline.append(risk_baseline)\n",
    "    group_list_gdf.append(risk_gdf)\n",
    "    pn_info_list.append(pn_info.loc[I_test][y[k][I_test]][ind])\n",
    "    print(np.sum(ind))\n",
    "\n",
    "\n",
    "group_list.append(pred_pro[~y[k][I_test]])\n",
    "group_list_as.append(pred_as[~y[k][I_test]])\n",
    "group_list_baseline.append(pred_baseline[~y[k][I_test]])\n",
    "group_list_gdf.append(pred_gdf[~y[k][I_test]])\n",
    "pn_info_list.append(pn_info.loc[I_test][~y[k][I_test]])\n",
    "print(np.sum(~y[k][I_test]))\n",
    "groups.append('Ctrl')\n",
    "\n",
    "\n",
    "fig = plt.figure(figsize= [13,6])\n",
    "\n",
    "# 'C{}'.format(i)\n",
    "boxprops_pro = dict(color=color_cycle[3], linewidth=2)    \n",
    "boxprops_as = dict(color=color_cycle[0], linewidth=2)  \n",
    "boxprops_gdf = dict(color=color_cycle[2], linewidth=2)   \n",
    "boxprops_baseline = dict(color=color_cycle[1], linewidth=2)   \n",
    "\n",
    "# linestyle = line_cycle[-i-1],color = color_cycle[i]\n",
    "\n",
    "\n",
    "bp1 = plt.boxplot(group_list, positions = np.arange(1,3*len(group_list),3), boxprops =boxprops_pro)\n",
    "bp2 = plt.boxplot(group_list_as, positions = np.arange(2.8,3*len(group_list),3),boxprops=boxprops_as)\n",
    "bp3 = plt.boxplot(group_list_gdf, positions = np.arange(1.6,3*len(group_list),3),boxprops=boxprops_gdf)\n",
    "bp4 = plt.boxplot(group_list_baseline, positions = np.arange(2.2,3*len(group_list),3),boxprops=boxprops_baseline)\n",
    "# plt.axvline(x=3, color = 'k', alpha=0.7)\n",
    "# plt.axvline(x=3*len(group_list)-3, color = 'k', alpha=0.5)\n",
    "\n",
    "plt.legend([bp1['boxes'][0],bp3['boxes'][0],bp4['boxes'][0],bp2['boxes'][0]],['Age+sex+Protein','Age+sex+GDF15','Baseline','Age+sex'],loc='upper right')\n",
    "\n",
    "plt.ylabel('Predicted probability of \\n death within {} years'.format(k+1))#,fontsize=14)\n",
    "plt.xlabel('Cause of death \\n# participants')#,fontsize=14)\n",
    "\n",
    "locs, _ = plt.xticks()\n",
    "labels =['All-cause \\n','Neoplasms \\n','Nervous s. \\n','Circulatory s. \\n','Respiratory s. \\n','Other \\n','Alive \\n']\n",
    "new_labels = []\n",
    "for i, lab in enumerate(labels):\n",
    "    new_labels.append(lab + str(pn_info_list[i].shape[0]))\n",
    "labels = new_labels\n",
    "plt.xticks(np.arange(1,3*len(group_list),3)+0.75,labels = labels)\n",
    "# plt.title('Predicted risk of death within {} years'.format(k+1), fontsize = 16)\n",
    "plt.grid(axis='y')\n",
    "if save_plot:\n",
    "    plt.savefig(folder+plots+plot_folder+'{}_{}_pred_ICD_4models_boxplot_wAllcause_y{}.png'.format(endpoint,dataset,k),bbox_inches = 'tight')\n",
    "plt.show()"
   ]
  },
  {
   "cell_type": "markdown",
   "metadata": {},
   "source": [
    "#### AUC"
   ]
  },
  {
   "cell_type": "code",
   "execution_count": null,
   "metadata": {
    "scrolled": true
   },
   "outputs": [],
   "source": [
    "\n",
    "k=k_plot\n",
    "print(k)\n",
    "cases = y[k][I_test]\n",
    "controls = ~cases\n",
    "\n",
    "keys = ['{}_y{}_agesex_lr'.format(dataset,k),'{}_y{}_baseline2_lr'.format(dataset,k),\n",
    "        '{}_y{}_agesexGDF15_lr'.format(dataset,k),'{}_y{}_agesexprotein_l1'.format(dataset,k)]\n",
    "\n",
    "\n",
    "groups = ['Neoplasm','Nervous','Circulatory','Respiratory','Other']\n",
    "AUC_array = np.zeros([len(groups)+1,len(keys),3])\n",
    "for i,key in enumerate(keys):\n",
    "    pred = pred_test_dict[key]\n",
    "    AUC_array[0,i,:] = R_pROC_AUC(y[k][I_test],pred)\n",
    "\n",
    "    group_ind = []\n",
    "    for j,g in enumerate(groups):\n",
    "        ind = ((pn_info.loc[I_test]['Cause_of_death'] == g) | controls)\n",
    "        AUC_array[j+1,i,:] = R_pROC_AUC(y[k][I_test][ind],pred[ind])\n",
    "groups = ['All-cause'] + groups"
   ]
  },
  {
   "cell_type": "code",
   "execution_count": null,
   "metadata": {},
   "outputs": [],
   "source": [
    "\n",
    "name_keys = ['Age+sex','Baseline','Age+sex+GDF15','Age+sex+Protein']\n",
    "fig = plt.figure(figsize=[10,6])\n",
    "for i in range(len(keys)):\n",
    "#     plt.scatter(groups,AUC_array[:,i,1])\n",
    "    plt.errorbar(np.arange(0,len(groups),1)+0.2*i,AUC_array[:,i,1],yerr = [AUC_array[:,i,1]-AUC_array[:,i,0],AUC_array[:,i,2]-AUC_array[:,i,1]],\n",
    "                 marker='o',ls='',elinewidth=0.5,capsize=5,color=color_cycle[i])\n",
    "org_axis = plt.gca()\n",
    "plt.legend(name_keys,loc = 'lower right')\n",
    "for i in range(len(groups)-1):\n",
    "    plt.axvline(x=i+0.8, color = 'k', alpha=1,linewidth = 0.5)\n",
    "labels =['All-cause','Neoplasms','Nervous s.','Circulatory s.','Respiratory s.','Other']\n",
    "plt.xticks(np.arange(0,len(groups),1)+0.3,labels, rotation = 15)\n",
    "plt.xlabel('Cause of death')\n",
    "plt.ylabel('AUC')\n",
    "plt.grid(axis='y')\n",
    "# plt.axis([org_axis.get_xlim()[0],org_axis.get_xlim()[1],org_axis.get_ylim()[0],org_axis.get_ylim()[1]])\n",
    "plt.title('{}-Year Mortality'.format(k+1))\n",
    "if save_plot:\n",
    "    plt.savefig(folder+plots+plot_folder+'{}_{}_pred_ICD_4models_AUC_wAllcause_y{}.png'.format(endpoint,dataset,k),bbox_inches = 'tight')\n",
    "plt.show()"
   ]
  },
  {
   "cell_type": "markdown",
   "metadata": {},
   "source": [
    "## Single proteins\n",
    "    - See Mor_pred2_results_single_protein.ipynb for original code"
   ]
  },
  {
   "cell_type": "code",
   "execution_count": null,
   "metadata": {
    "scrolled": true
   },
   "outputs": [],
   "source": [
    "try: \n",
    "    file = open(folder+pred_folder + \"{}_{}_test_prediction_single_protein.pkl\".format(endpoint,dataset),'rb')\n",
    "    pred_test_dict = pickle.load(file)\n",
    "except:\n",
    "    print('No test predictions')\n",
    "\n",
    "if updated_predictions:\n",
    "    print('Include updated predictiions')\n",
    "    file = open(folder+pred_folder_update + \"{}_{}_test_prediction.pkl\".format(endpoint,dataset),'rb')\n",
    "    pred_test_dict_update = pickle.load(file)     \n",
    "    print(pred_test_dict['{}_y{}_baseline2_lr'.format(dataset,k)][:5])\n",
    "    for key,value in pred_test_dict_update.items():\n",
    "        pred_test_dict[key] = value\n",
    "    print(pred_test_dict['{}_y{}_baseline2_lr'.format(dataset,k)][:5])\n",
    "print(pred_test_dict.keys())\n",
    "\n",
    "keep_samples = keep_samples_dict[dataset]\n",
    "\n",
    "I_train = I_train_main.intersection(keep_samples)#.intersection(have_prs)\n",
    "I_test = I_test_main.intersection(keep_samples)#.intersection(have_prs)\n",
    "\n",
    "y_train = y[k][I_train]\n",
    "y_test= y[k][I_test]\n",
    "\n"
   ]
  },
  {
   "cell_type": "code",
   "execution_count": null,
   "metadata": {},
   "outputs": [],
   "source": [
    "protein_names = ['GDF15','WFDC2','THBS2','ANTXR2','RBL2','SERPINA3','TNFRSF1A','ANGPT2','MMP12','SPON2']"
   ]
  },
  {
   "cell_type": "markdown",
   "metadata": {},
   "source": [
    "#### AUC for categories"
   ]
  },
  {
   "cell_type": "code",
   "execution_count": null,
   "metadata": {
    "scrolled": true
   },
   "outputs": [],
   "source": [
    "\n",
    "k=k_plot\n",
    "print(k)\n",
    "cases = y[k][I_test]\n",
    "controls = ~cases\n",
    "\n",
    "# keys = ['{}_y{}_agesexGDF15_lr'.format(dataset,k),'{}_y{}_agesexproteinnoGDF15_l1'.format(dataset,k),'{}_y{}_agesexprotein_l1'.format(dataset,k),\n",
    "#         '{}_y{}_baselineGDF15_lr'.format(dataset,k),'{}_y{}_baselineproteinnoGDF15_l1'.format(dataset,k),'{}_y{}_baselineprotein_l1'.format(dataset,k)]\n",
    "\n",
    "keys = ['{}_y{}_agesex_lr'.format(dataset,k),'{}_y{}_baseline2_lr'.format(dataset,k),\n",
    "        '{}_y{}_agesexGDF15_lr'.format(dataset,k),'{}_y{}_agesexHE4_lr'.format(dataset,k),\n",
    "        '{}_y{}_agesexTSP2_lr'.format(dataset,k),'{}_y{}_agesexANTR2_lr'.format(dataset,k)]\n",
    "\n",
    "groups = ['Neoplasm','Nervous','Circulatory','Respiratory','Other']\n",
    "AUC_array = np.zeros([len(groups)+1,len(keys),3])\n",
    "for i,key in enumerate(keys):\n",
    "    pred = pred_test_dict[key]\n",
    "    AUC_array[0,i,:] = R_pROC_AUC(y[k][I_test],pred)\n",
    "\n",
    "    group_ind = []\n",
    "    for j,g in enumerate(groups):\n",
    "        ind = ((pn_info.loc[I_test]['Cause_of_death'] == g) | controls)\n",
    "        AUC_array[j+1,i,:] = R_pROC_AUC(y[k][I_test][ind],pred[ind])\n",
    "groups = ['All-cause'] + groups"
   ]
  },
  {
   "cell_type": "code",
   "execution_count": null,
   "metadata": {},
   "outputs": [],
   "source": [
    "\n",
    "# name_keys = ['Age+sex','Baseline','Age+sex+GDF15','Age+sex+HE4','Age+sex+TSP2','Age+sex+ANTR2']\n",
    "name_keys = ['Age+sex','Baseline','Age+sex+GDF15','Age+sex+WFDC2','Age+sex+THBS2','Age+sex+ANTXR2']\n",
    "# protien_names = ['GDF15','WFDC2','THBS2','ANTXR2','RBL2','SERPINA3','TNFRSF1A','ANGPT2','MMP12','SPON2']\n",
    "fig = plt.figure(figsize=[10,6])\n",
    "for i in range(len(keys)):\n",
    "#     plt.scatter(groups,AUC_array[:,i,1])\n",
    "    plt.errorbar(np.arange(0,len(groups),1)+0.15*i,AUC_array[:,i,1],yerr = [AUC_array[:,i,1]-AUC_array[:,i,0],AUC_array[:,i,2]-AUC_array[:,i,1]],\n",
    "                 marker='o',ls='',elinewidth=0.5,capsize=5,color=color_cycle[i])\n",
    "org_axis = plt.gca()\n",
    "plt.legend(name_keys,loc = 'lower right')\n",
    "for i in range(len(groups)-1):\n",
    "    plt.axvline(x=i+0.9, color = 'k', alpha=1,linewidth = 0.5)\n",
    "labels =['All-cause','Neoplasms','Nervous s.','Circulatory s.','Respiratory s.','Other']\n",
    "plt.xticks(np.arange(0,len(groups),1)+0.3,labels, rotation = 15)\n",
    "plt.xlabel('Cause of death')\n",
    "plt.ylabel('AUC')\n",
    "plt.grid(axis='y')\n",
    "# plt.axis([org_axis.get_xlim()[0],org_axis.get_xlim()[1],org_axis.get_ylim()[0],org_axis.get_ylim()[1]])\n",
    "plt.title('{}-Year Mortality'.format(k+1))\n",
    "if save_plot:\n",
    "    plt.savefig(folder+plots+plot_folder+'{}_{}_pred_ICD_6models_AUC_wAllcause_wbaseline_y{}.png'.format(endpoint,dataset,k),bbox_inches = 'tight')\n",
    "plt.show()"
   ]
  },
  {
   "cell_type": "markdown",
   "metadata": {},
   "source": [
    "#### Metrics for different k"
   ]
  },
  {
   "cell_type": "code",
   "execution_count": null,
   "metadata": {
    "scrolled": true
   },
   "outputs": [],
   "source": [
    "k=k_plot\n",
    "\n",
    "# K = [0,1,2,3,4,5,6,7,8,9,10,11,12,13]\n",
    "K = [0,1,2,3,4,5,6,7,8,9,10,11,12,13,14]\n",
    "K_true = [l+1 for l in K]\n",
    "# K= [0]\n",
    "pred_k = []\n",
    "Cindex = np.zeros([len(K),12,4])\n",
    "scores = np.zeros([len(K),12,8])\n",
    "for j,k in enumerate(K):\n",
    "    keys = ['{}_y{}_agesex_lr'.format(dataset,k),'{}_y{}_baseline2_lr'.format(dataset,k),\n",
    "           '{}_y{}_agesexGDF15_lr'.format(dataset,k),'{}_y{}_agesexHE4_lr'.format(dataset,k),\n",
    "           '{}_y{}_agesexTSP2_lr'.format(dataset,k),'{}_y{}_agesexANTR2_lr'.format(dataset,k)]\n",
    "# protein_names = ['GDF15','HE4','TSP2','ANTR2','p130','A1AC','TNFsR1','Angp2','MMP12','SPON2']\n",
    "    pred_key = []\n",
    "    for i,key in enumerate(keys):\n",
    "        pred = pred_test_dict[key]\n",
    "        baseline = pred_test_dict[keys[0]]\n",
    "        scores[j,i] = calculate_metrics(pred,baseline,y[k][I_test])        \n",
    "#         pred = pd.DataFrame(pred,index=I_test)[0]\n",
    "#         pred_key.append(np.array(pred))\n",
    "# #         print(cind)\n",
    "#     pred_k.append(pred_key)\n",
    "#     cind\n"
   ]
  },
  {
   "cell_type": "code",
   "execution_count": null,
   "metadata": {},
   "outputs": [],
   "source": [
    "agesexproteins = ['Age+sex+'+p for p in protein_names]\n",
    "name_keys = ['Age+sex','Baseline']+agesexproteins[:4]\n",
    "# name_keys = ['Age+sex+protein L1','Age+sex+protein L2','Baseline+protein','Baseline+blood+Protein','Cox elnet Age+sex+protein']\n",
    "fig=plt.figure(figsize=[10,6])\n",
    "for i, key in enumerate(name_keys):\n",
    "#     scores = score_dict[key]\n",
    "    plt.plot(K_true,scores[:,i,0],linestyle = line_cycle[-i-1],color = color_cycle[i])\n",
    "    plt.ylabel('AUC')\n",
    "    plt.xlabel('Event within years')\n",
    "    plt.xticks(K_true)\n",
    "#     plt.title(dataset)\n",
    "\n",
    "plt.legend(name_keys)\n",
    "plt.grid()\n",
    "if save_plot:\n",
    "    plt.savefig(folder+plots+plot_folder+'{}_{}_4proteins_AUC.png'.format(endpoint,dataset),bbox_inches=\"tight\")\n",
    "plt.show()"
   ]
  },
  {
   "cell_type": "markdown",
   "metadata": {},
   "source": [
    "## GDF15 properties\n",
    "    - Mor_data.ipynb for original code\n",
    "    - See Mor_plot_important_proteins.ipynb to plot distributions of many interesting proteins"
   ]
  },
  {
   "cell_type": "code",
   "execution_count": null,
   "metadata": {},
   "outputs": [],
   "source": [
    "\n",
    "np.log(pn_info.loc[keep_samples,'GDF15']).hist(bins=100,density=True)\n",
    "# np.log(pn_info.loc[keep_samples,'ApoB']).hist(bins=100,density=True)\n",
    "plt.xlabel('Log(Protein level)')\n",
    "plt.ylabel('Density')\n",
    "plt.title('GDF15 distribution')\n",
    "if save_plot:\n",
    "    plt.savefig(folder+plots+plot_folder+'{}_GDF15_distribution.png'.format(dataset),bbox_inches=\"tight\")\n",
    "plt.show()\n",
    "\n",
    "age = np.array(pn_info.loc[keep_samples,'Age_at_sample_collection_2'])\n",
    "fig = plt.figure(figsize=[10,6])\n",
    "plt.scatter(age,np.log(pn_info.loc[keep_samples,'GDF15']),alpha=.1,marker = '.',zorder=-1 ,color='k')\n",
    "plt.plot(np.unique(age), np.poly1d(np.polyfit(age, np.log(pn_info.loc[keep_samples,'GDF15']), 1))(np.unique(age)),'r')\n",
    "lowess= sm.nonparametric.lowess\n",
    "z = lowess(np.log(pn_info.loc[keep_samples,'GDF15']),age,frac=0.1,delta = 0.01 * np.ptp(age))\n",
    "plt.plot(z[:,0],z[:,1],color='b')\n",
    "\n",
    "\n",
    "# fig = plt.figure(figsize=[10,6])\n",
    "# plt.scatter(age,(pn_info.loc[keep_samples,'GDF15']),alpha=.1,marker = '.',zorder=-1 ,color='k')\n",
    "# plt.plot(np.unique(age), np.poly1d(np.polyfit(age, (pn_info.loc[keep_samples,'GDF15']), 1))(np.unique(age)),'r')\n",
    "# lowess= sm.nonparametric.lowess\n",
    "# z = lowess((pn_info.loc[keep_samples,'GDF15']),age,frac=0.1,delta = 0.01 * np.ptp(age))\n",
    "# # z = lowess(np.log(pn_info.loc[keep_samples,'GDF15']),age,delta = 1000)\n",
    "# plt.plot(z[:,0],z[:,1],color='b')\n",
    "# plt.axis([20,100,0,50000])\n",
    "\n",
    "plt.legend(['Best line','Lowess'])\n",
    "plt.grid()\n",
    "plt.xlabel('Age')\n",
    "plt.ylabel('Log(Protein level)')\n",
    "plt.title('GDF15')\n",
    "if save_plot:\n",
    "    plt.savefig(folder+plots+plot_folder+'{}_GDF15vsage.png'.format(dataset),bbox_inches=\"tight\")\n",
    "plt.show()"
   ]
  },
  {
   "cell_type": "markdown",
   "metadata": {},
   "source": [
    "## New data prediction\n",
    "    - Mor_results_newdata.ipynb for original code"
   ]
  },
  {
   "cell_type": "code",
   "execution_count": null,
   "metadata": {},
   "outputs": [],
   "source": [
    "pred_year = 'pred_y4'"
   ]
  },
  {
   "cell_type": "code",
   "execution_count": null,
   "metadata": {},
   "outputs": [],
   "source": [
    "# dataset = 'Old_18105'\n",
    "pred = pd.read_csv(folder+pred_folder + \"{}_{}_protein_prediction_all.csv\".format(endpoint,dataset),index_col = 'Barcode2d')\n",
    "pred_as = pd.read_csv(folder+pred_folder + \"{}_{}_agesex_prediction_all.csv\".format(endpoint,dataset),index_col = 'Barcode2d')\n",
    "if updated_predictions:\n",
    "    print('Use updated predictions')\n",
    "    pred_baseline = pd.read_csv(folder+pred_folder_update + \"{}_{}_baseline2_prediction_all.csv\".format(endpoint,dataset),index_col = 'Barcode2d')\n",
    "else:\n",
    "    pred_baseline = pd.read_csv(folder+pred_folder + \"{}_{}_baseline2_prediction_all.csv\".format(endpoint,dataset),index_col = 'Barcode2d')"
   ]
  },
  {
   "cell_type": "code",
   "execution_count": null,
   "metadata": {},
   "outputs": [],
   "source": [
    "dataset_new = 'New_18105'\n",
    "keep_samples_new = keep_samples_dict[dataset_new]"
   ]
  },
  {
   "cell_type": "code",
   "execution_count": null,
   "metadata": {},
   "outputs": [],
   "source": [
    "HERA_death = pn_info.loc[keep_samples_new][pn_info.loc[keep_samples_new,'event_death']].index\n",
    "HERA_living = pn_info.loc[keep_samples_new][~pn_info.loc[keep_samples_new,'event_death']].index"
   ]
  },
  {
   "cell_type": "code",
   "execution_count": null,
   "metadata": {},
   "outputs": [],
   "source": [
    "\n",
    "boxprops_pro = dict(color=color_cycle[3], linewidth=2)    \n",
    "boxprops_as = dict(color=color_cycle[0], linewidth=2)  \n",
    "# boxprops_gdf = dict(color='C2', linewidth=2)   \n",
    "boxprops_baseline = dict(color=color_cycle[1],linewidth=2)   \n",
    "\n",
    "bp1 = plt.boxplot([pred.loc[HERA_death][pred_year],pred.loc[HERA_living][pred_year]], positions = [1,3], boxprops =boxprops_pro)\n",
    "bp2 = plt.boxplot([pred_baseline.loc[HERA_death][pred_year],pred_baseline.loc[HERA_living][pred_year]], positions = [1.5,3.5], boxprops =boxprops_baseline)\n",
    "bp3 = plt.boxplot([pred_as.loc[HERA_death][pred_year],pred_as.loc[HERA_living][pred_year]], positions = [2,4], boxprops =boxprops_as)\n",
    "\n",
    "plt.legend([bp1['boxes'][0],bp2['boxes'][0],bp3['boxes'][0]],['Age+sex+Protein','Baseline','Age+sex'],loc='upper right')\n",
    "plt.xticks([1.5,3.5],labels = ['Dead','Living'])\n",
    "plt.ylabel('Predicted risk')\n",
    "plt.xlabel('')\n",
    "plt.axis([0,5,-0.05,1])\n",
    "plt.grid()\n",
    "if save_plot:\n",
    "    plt.savefig(folder+plots+'{}_{}_{}_{}_boxplot_living_vs_dead.png'.format(endpoint,dataset,dataset_new,pred_year))\n",
    "# plt.show()"
   ]
  },
  {
   "cell_type": "markdown",
   "metadata": {},
   "source": [
    "## Data\n",
    "    - Originally from Mor_data.ipynb"
   ]
  },
  {
   "cell_type": "code",
   "execution_count": null,
   "metadata": {},
   "outputs": [],
   "source": [
    "I_plot = keep_samples\n",
    "pn_info.loc[I_plot,'Age_at_sample_collection_2'].hist(bins=np.arange(10,110,5))\n",
    "# plt.title('Age distribution')\n",
    "plt.xlabel('Age')\n",
    "plt.ylabel('Number of participants')\n",
    "if save_plot:\n",
    "    plt.savefig(folder+plots+plot_folder+'{}_age_distribution.png'.format(dataset),bbox_inches=\"tight\")\n",
    "plt.show()\n",
    "\n",
    "pn_info['Time_of_plasma_collection_2'] = pd.to_datetime(pn_info.Time_of_plasma_collection_2)\n",
    "sampling_date = pn_info['Time_of_plasma_collection_2'].dt.year + pn_info['Time_of_plasma_collection_2'].dt.dayofyear/365\n",
    "sampling_date[I_plot].hist(bins=np.arange(2000,2006,0.5))\n",
    "plt.xlabel('Sampling year')\n",
    "plt.ylabel('Number of participants')\n",
    "# plt.title(\"Time of sample collection\")\n",
    "if save_plot:\n",
    "    plt.savefig(folder+plots+plot_folder+'{}_sampling_date_distribution.png'.format(dataset),bbox_inches=\"tight\")\n",
    "plt.show()\n",
    "\n",
    "\n",
    "print('Men: ', (pn_info.loc[I_plot,'sex']==1).sum())\n",
    "print('Women: ', (pn_info.loc[I_plot,'sex']==2).sum())\n",
    "print('Samples: ', len(I_plot))\n",
    "print('Deaths: ', use_event[I_plot].sum())\n",
    "print('')\n"
   ]
  },
  {
   "cell_type": "markdown",
   "metadata": {},
   "source": [
    "## Proteins selected with forward selection in order  \n",
    "    - This comes directly from Mor_feature_ranking.ipynb"
   ]
  },
  {
   "cell_type": "code",
   "execution_count": null,
   "metadata": {
    "scrolled": true
   },
   "outputs": [],
   "source": [
    "try: \n",
    "    file = open(folder+pred_folder + \"{}_{}_fewp_test_prediction.pkl\".format(endpoint,dataset),'rb')\n",
    "#     file = open(folder+pred_folder + \"{}_{}_fewp_noGDF15_test_prediction.pkl\".format(endpoint,dataset),'rb')\n",
    "    pred_test_dict = pickle.load(file)\n",
    "except:\n",
    "    print('No test predictions')\n",
    "    pred_test_dict = {} \n"
   ]
  },
  {
   "cell_type": "code",
   "execution_count": null,
   "metadata": {
    "scrolled": true
   },
   "outputs": [],
   "source": [
    "# k=k_plot\n",
    "# k=1\n",
    "k= 4\n",
    "k2=k+1\n",
    "\n",
    "nump = 101 \n",
    "K = [k]\n",
    "\n",
    "AUC_CI = []\n",
    "\n",
    "for j,k in enumerate(K):\n",
    "    for i in range(nump):\n",
    "        for l in range(1):\n",
    "            pred = pd.DataFrame(pred_test_dict['{}_y{}_agesex_forwardp{}_l2'.format(dataset,k,i)],index=I_test)[0]\n",
    "            \n",
    "            AUC_CI.append(R_pROC_AUC(y[k][I_test],pred))\n",
    "AUC_CI = np.array(AUC_CI)\n",
    "\n",
    "fig = plt.figure(figsize=[8,5])\n",
    "# fig.add_subplot(1,2,1)\n",
    "\n",
    "plt.plot(AUC_CI[:,1])\n",
    "plt.ylabel('AUC')\n",
    "plt.xlabel('Number of proteins')\n",
    "plt.grid()\n",
    "plt.title('{}-Year Mortality'.format(k+1))\n",
    "if save_plot:\n",
    "    plt.savefig(folder+plots+plot_folder+'{}_{}_NumProtein_forward_AUC_y{}.png'.format(endpoint,dataset,k))\n",
    "    # plt.savefig(folder+plots+'{}_{}_NumProtein_forward_noGDF15_AUC_y{}.png'.format(endpoint,dataset,k))\n"
   ]
  },
  {
   "cell_type": "code",
   "execution_count": null,
   "metadata": {
    "scrolled": true
   },
   "outputs": [],
   "source": [
    "# k=k_plot\n",
    "# k=1\n",
    "k= 9\n",
    "k2=k+1\n",
    "\n",
    "nump = 101 \n",
    "K = [k]\n",
    "\n",
    "AUC_CI = []\n",
    "\n",
    "for j,k in enumerate(K):\n",
    "    for i in range(nump):\n",
    "        for l in range(1):\n",
    "            pred = pd.DataFrame(pred_test_dict['{}_y{}_agesex_forwardp{}_l2'.format(dataset,k,i)],index=I_test)[0]\n",
    "            \n",
    "            AUC_CI.append(R_pROC_AUC(y[k][I_test],pred))\n",
    "AUC_CI = np.array(AUC_CI)\n",
    "\n",
    "fig = plt.figure(figsize=[8,5])\n",
    "# fig.add_subplot(1,2,1)\n",
    "\n",
    "plt.plot(AUC_CI[:,1])\n",
    "plt.ylabel('AUC')\n",
    "plt.xlabel('Number of proteins')\n",
    "plt.grid()\n",
    "plt.title('{}-Year Mortality'.format(k+1))\n",
    "if save_plot:\n",
    "    plt.savefig(folder+plots+plot_folder+'{}_{}_NumProtein_forward_AUC_y{}.png'.format(endpoint,dataset,k))\n",
    "    # plt.savefig(folder+plots+'{}_{}_NumProtein_forward_noGDF15_AUC_y{}.png'.format(endpoint,dataset,k))"
   ]
  },
  {
   "cell_type": "markdown",
   "metadata": {},
   "source": [
    "## Experiments with baseline features\n",
    "     - Mor_Trad_20210106.ipynb has the functions to plot the baseline experiments "
   ]
  },
  {
   "cell_type": "markdown",
   "metadata": {},
   "source": [
    "## Cross validation results \n",
    "    - See Mor_predict_cv_results.ipynb to plot the cross validation experiements"
   ]
  },
  {
   "cell_type": "markdown",
   "metadata": {},
   "source": [
    "## Protein correlation heatmap\n",
    "    - See Mor_top_protein.ipynb"
   ]
  },
  {
   "cell_type": "code",
   "execution_count": null,
   "metadata": {},
   "outputs": [],
   "source": []
  }
 ],
 "metadata": {
  "kernelspec": {
   "display_name": "Python 3",
   "language": "python",
   "name": "python3"
  },
  "language_info": {
   "codemirror_mode": {
    "name": "ipython",
    "version": 3
   },
   "file_extension": ".py",
   "mimetype": "text/x-python",
   "name": "python",
   "nbconvert_exporter": "python",
   "pygments_lexer": "ipython3",
   "version": "3.6.3"
  }
 },
 "nbformat": 4,
 "nbformat_minor": 4
}
