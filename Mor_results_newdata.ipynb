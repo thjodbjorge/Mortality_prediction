{
 "cells": [
  {
   "cell_type": "code",
   "execution_count": null,
   "metadata": {
    "scrolled": true
   },
   "outputs": [],
   "source": [
    "import pandas as pd\n",
    "import numpy as np\n",
    "from sklearn.model_selection import train_test_split, KFold\n",
    "import statsmodels.api as sm\n",
    "from sklearn.metrics import accuracy_score, roc_auc_score, recall_score, precision_score, confusion_matrix, log_loss\n",
    "from sklearn.metrics import precision_recall_curve, roc_curve\n",
    "from sklearn.linear_model import LogisticRegression, LogisticRegressionCV\n",
    "from sklearn.preprocessing import QuantileTransformer, PowerTransformer\n",
    "from sklearn.feature_selection import SelectKBest, SelectFromModel, RFE, RFECV, SelectPercentile, SelectFpr, SelectFdr, SelectFwe\n",
    "from sklearn.feature_selection import chi2, f_classif, mutual_info_classif, SelectFdr\n",
    "from sklearn.ensemble import RandomForestClassifier\n",
    "from boruta import BorutaPy\n",
    "import matplotlib.pyplot as plt\n",
    "import pickle\n",
    "from sksurv.metrics import concordance_index_censored\n",
    "import lifelines as ll\n",
    "# from lifelines.utils.sklearn_adapter import sklearn_adapter\n",
    "# CoxRegression = sklearn_adapter(ll.CoxPHFitter, event_col = 'event')\n",
    "import sys\n",
    "sys.path.append('/odinn/users/thjodbjorge/Python_functions/')\n",
    "import Predict_functions as pf\n",
    "from Calculate_score import calculate_metrics, make_class_table\n",
    "from R_functions import R_pROC,R_pROC_compareROC,R_pROC_compareROC_boot, R_pROC_AUC, R_timeROC, R_timeROC_CI, R_timeROC_pval, R_NRIbin,R_NRIcens,R_NRIcensipw, R_censROC, R_hoslem, R_Greenwood_Nam\n",
    "\n",
    "\n",
    "# raw_data = pd.read_csv('/odinn/users/thjodbjorge/Proteomics/Data/raw_with_info.csv',index_col = 'Barcode2d' )\n",
    "probe_info = pd.read_csv('/odinn/users/thjodbjorge/Proteomics/Data/probe_info.csv', index_col = 'SeqId')\n",
    "\n",
    "pn_info = pd.read_csv('/odinn/users/thjodbjorge/Proteomics/Data/pn_info_Mor/pn_info_Mor_event.csv',index_col = 'Barcode2d' )\n",
    "probes_to_skip = pd.read_csv('/odinn/users/thjodbjorge/Proteomics/Data/probes_to_skip.txt')['probe']"
   ]
  },
  {
   "cell_type": "code",
   "execution_count": null,
   "metadata": {},
   "outputs": [],
   "source": [
    "folder = '/odinn/users/thjodbjorge/Proteomics/Mortality2/'\n",
    "feat_folder = 'Features2/'\n",
    "pred_folder = 'Predictions3/'\n",
    "plots = 'Plots3/'\n",
    "save_plot = True\n",
    "\n",
    "endpoints = ['death']\n",
    "# endpoints = ['Neoplasm','Nervous','Circulatory','Respiratory','Other','death'] \n",
    "time_to_event = pn_info.time_to_death\n",
    "no_event_before = pn_info.no_death_before\n",
    "for endpoint in endpoints:\n",
    "    if endpoint == 'death':\n",
    "        use_event = pn_info.event_death\n",
    "    elif endpoint == 'Neoplasm':\n",
    "        use_event = pn_info.event_death & (pn_info.Cause_of_death == 'Neoplasm')\n",
    "    elif endpoint == 'Nervous':\n",
    "        use_event = pn_info.event_death & (pn_info.Cause_of_death == 'Nervous')\n",
    "    elif endpoint == 'Circulatory':\n",
    "        use_event = pn_info.event_death & (pn_info.Cause_of_death == 'Circulatory')\n",
    "    elif endpoint == 'Respiratory':\n",
    "        use_event = pn_info.event_death & (pn_info.Cause_of_death == 'Respiratory')\n",
    "    elif endpoint == 'Other':\n",
    "        use_event = pn_info.event_death & (pn_info.Cause_of_death == 'Other')\n",
    "\n",
    "y = []\n",
    "for i in range(1,19):\n",
    "    y.append(use_event & (time_to_event <= i))\n",
    "\n",
    "kf = KFold(n_splits=10, random_state=10, shuffle=False) \n",
    "I_train_main, I_test_main = train_test_split(pn_info.index, train_size=0.7, random_state = 10)\n",
    "# I_val_main, I_test_main = train_test_split(I_test_main, train_size=0.5, random_state = 10)\n",
    "\n",
    "\n",
    "file = open(folder+\"{}_keep_samples.pkl\".format('Mor'),'rb')\n",
    "keep_samples_dict = pickle.load(file)\n",
    "\n",
    "print(keep_samples_dict.keys())"
   ]
  },
  {
   "cell_type": "code",
   "execution_count": null,
   "metadata": {},
   "outputs": [],
   "source": [
    "dataset = 'Old_60105'\n",
    "HERA_dataset = 'HERA_60105'\n",
    "all_dataset = 'All_60105'\n",
    "new_dataset = 'New_60105'\n",
    "\n",
    "# age =( pn_info.Age_at_sample_collection_2 >=70 )& (pn_info.Age_at_sample_collection_2 < 80) \n",
    "# age_ind = pn_info[age].index\n",
    "try: \n",
    "    file = open(folder+pred_folder + \"{}_{}_all_prediction.pkl\".format(endpoint,dataset),'rb')\n",
    "    pred_test_dict = pickle.load(file)\n",
    "except:\n",
    "    print('No test predictions')\n",
    "  \n",
    "# print(pred_dict.keys())\n",
    "\n",
    "k_plot=1\n",
    "k = k_plot\n",
    "\n",
    "plot_folder = '{}_{}/'.format(endpoint,dataset)\n",
    "\n",
    "keep_samples = keep_samples_dict[dataset]\n",
    "\n",
    "I_train = I_train_main.intersection(keep_samples)#.intersection(have_prs)\n",
    "I_test = I_test_main.intersection(keep_samples)#.intersection(have_prs)\n",
    "\n",
    "hera_samples = keep_samples_dict[HERA_dataset]\n",
    "old_samples = keep_samples_dict[dataset]\n",
    "all_samples = keep_samples_dict[all_dataset]\n",
    "new_samples = keep_samples_dict[new_dataset]\n",
    "\n",
    "I_old = old_samples\n",
    "I_use =  hera_samples\n",
    "\n",
    "y_train = y[k][I_train]\n",
    "y_test= y[k][I_test]\n",
    "\n",
    "y_use = y[k][I_use]"
   ]
  },
  {
   "cell_type": "code",
   "execution_count": null,
   "metadata": {},
   "outputs": [],
   "source": [
    "%%capture cap --no-stderr\n",
    "k = k_plot\n",
    "\n",
    "keys = ['{}_y{}_agesex_lr'.format(dataset,k),'{}_y{}_tradcancer_lr'.format(dataset,k),\n",
    "       '{}_y{}_agesexGDF15_lr'.format(dataset,k),'{}_y{}_agesexprotein_l1'.format(dataset,k)]\n",
    "name_keys = ['Age+sex','Baseline','Age+sex+GDF15','Age+sex+Protein']\n",
    "fig = plt.figure(figsize = [20,12])\n",
    "for j,key in enumerate(keys):\n",
    "    print(keys[j])\n",
    "    # key = 'predy{}_{}_tradstatproteinprs_coxelnet'.format(k,dataset)\n",
    "    pred = pred_test_dict[key]    \n",
    "    pred= pd.DataFrame(pred,index=pn_info.index)\n",
    "    pred = pred.loc[I_use]\n",
    "\n",
    "    risk_bins =  np.digitize(pred,np.quantile(pred,[0,0.2,0.8,0.95,1]))\n",
    "\n",
    "\n",
    "    fig.add_subplot(2,2,j+1)\n",
    "    KMFs = []\n",
    "    for i in range(4,0,-1):\n",
    "        kmf =  ll.fitters.kaplan_meier_fitter.KaplanMeierFitter()\n",
    "        ind = I_use[risk_bins[:,0]==i]\n",
    "        kmf.fit(time_to_event[ind],use_event[ind])\n",
    "        KMFs.append(kmf)\n",
    "        kmf.plot(loc=slice(0,5))\n",
    "#         print(len(ind), np.mean(pred.loc[ind]))\n",
    "        print(kmf.event_table.loc[0,'at_risk'],1- kmf.predict(1),1-kmf.predict(2))\n",
    "    plt.legend(['95%-100%','80%-95%','20%-80%','0%-20%'])  \n",
    "    # plt.legend(['0%-5%','5%-20%','20%-50%','50%-80%','80%-95%','95%-100%'])\n",
    "    plt.axis([0,3,0.7,1.05])\n",
    "    plt.title(name_keys[j])\n",
    "    plt.ylabel('Survival')\n",
    "    plt.xlabel('Time in years')\n",
    "    plt.grid(True)\n",
    "#     plt.show()\n",
    "if save_plot: \n",
    "    plt.savefig(folder+plots+plot_folder+'{}_{}_KaplanMeier_5p_y{}_HERA.png'.format(endpoint,dataset,k))\n"
   ]
  },
  {
   "cell_type": "code",
   "execution_count": null,
   "metadata": {},
   "outputs": [],
   "source": [
    "with open(folder+plots+plot_folder+'{}_{}_KaplanMeier_numbers_5p_y{}_HERA.txt'.format(endpoint,dataset,k), 'w') as f:\n",
    "    f.write(cap.stdout)\n",
    "cap.show()\n",
    "del cap"
   ]
  },
  {
   "cell_type": "code",
   "execution_count": null,
   "metadata": {},
   "outputs": [],
   "source": [
    "I_use.shape"
   ]
  },
  {
   "cell_type": "code",
   "execution_count": null,
   "metadata": {},
   "outputs": [],
   "source": [
    "use_event[I_use].sum()"
   ]
  },
  {
   "cell_type": "code",
   "execution_count": null,
   "metadata": {},
   "outputs": [],
   "source": [
    "use_event[hera_samples].sum()"
   ]
  },
  {
   "cell_type": "code",
   "execution_count": null,
   "metadata": {},
   "outputs": [],
   "source": [
    "pd.set_option('display.max_rows', 100)\n",
    "pn_info.loc[I_use][use_event[I_use]][['Age_at_sample_collection_2','Time_of_plasma_collection_2','prj','site','ICD-10','no_CAD_before','no_MI_before','cancer','Cause_of_death','Smoker']]"
   ]
  },
  {
   "cell_type": "code",
   "execution_count": null,
   "metadata": {},
   "outputs": [],
   "source": [
    "pn_info.loc[I_use][use_event[I_use]][['Age_at_sample_collection_2','Time_of_plasma_collection_2','prj','site','ICD-10','no_CAD_before','no_MI_before','cancer','Cause_of_death','Smoker']].groupby('Cause_of_death').count()"
   ]
  },
  {
   "cell_type": "code",
   "execution_count": null,
   "metadata": {},
   "outputs": [],
   "source": [
    "pn_info.loc[hera_samples][use_event[hera_samples]][['Age_at_sample_collection_2','Time_of_plasma_collection_2','prj','site','ICD-10','no_CAD_before','no_MI_before','cancer','Cause_of_death','Smoker']].groupby('Cause_of_death').count()"
   ]
  },
  {
   "cell_type": "code",
   "execution_count": null,
   "metadata": {
    "jupyter": {
     "source_hidden": true
    }
   },
   "outputs": [],
   "source": [
    "pn_info[pn_info.prj == '45_LUNG'].groupby('ICD-10').count()"
   ]
  },
  {
   "cell_type": "code",
   "execution_count": null,
   "metadata": {},
   "outputs": [],
   "source": [
    "pn_info[pn_info.prj == '45_LUNG'].shape"
   ]
  },
  {
   "cell_type": "code",
   "execution_count": null,
   "metadata": {},
   "outputs": [],
   "source": [
    "pn_info.loc[I_use][use_event[I_use]][['Age_at_sample_collection_2','Time_of_plasma_collection_2','prj','site','ICD-10','no_CAD_before','no_MI_before','cancer','Cause_of_death','Smoker']].groupby(['prj','Cause_of_death']).count()"
   ]
  },
  {
   "cell_type": "code",
   "execution_count": null,
   "metadata": {},
   "outputs": [],
   "source": [
    "pn_info[pn_info.prj == '62_INFEC'].shape"
   ]
  },
  {
   "cell_type": "code",
   "execution_count": null,
   "metadata": {},
   "outputs": [],
   "source": [
    "pn_info[pn_info.prj == '25_ASTM'].shape"
   ]
  },
  {
   "cell_type": "code",
   "execution_count": null,
   "metadata": {},
   "outputs": [],
   "source": [
    "pn_info.loc[I_use][use_event[I_use]][['Age_at_sample_collection_2','Time_of_plasma_collection_2','prj','site','ICD-10','no_CAD_before','no_MI_before','cancer','Cause_of_death','Smoker']].groupby(['Cause_of_death','prj']).count()"
   ]
  },
  {
   "cell_type": "markdown",
   "metadata": {},
   "source": [
    "### Simple proteomics model prediction results"
   ]
  },
  {
   "cell_type": "code",
   "execution_count": null,
   "metadata": {},
   "outputs": [],
   "source": [
    "VERY_SMALL_SIZE = 12\n",
    "SMALL_SIZE = 14\n",
    "MEDIUM_SIZE = 16\n",
    "BIGGER_SIZE = 16\n",
    "\n",
    "plt.rc('font', size=SMALL_SIZE)          # controls default text sizes\n",
    "plt.rc('axes', titlesize=BIGGER_SIZE)     # fontsize of the axes title\n",
    "plt.rc('axes', labelsize=MEDIUM_SIZE)    # fontsize of the x and y labels\n",
    "plt.rc('xtick', labelsize=SMALL_SIZE)    # fontsize of the tick labels\n",
    "plt.rc('ytick', labelsize=SMALL_SIZE)    # fontsize of the tick labels\n",
    "plt.rc('legend', fontsize=VERY_SMALL_SIZE)    # legend fontsize\n",
    "plt.rc('figure', titlesize=BIGGER_SIZE) "
   ]
  },
  {
   "cell_type": "code",
   "execution_count": null,
   "metadata": {},
   "outputs": [],
   "source": [
    "dataset = 'Old_18105'\n",
    "pred = pd.read_csv(folder+pred_folder + \"{}_{}_protein_prediction_all.csv\".format(endpoint,dataset),index_col = 'Barcode2d')\n",
    "pred_as = pd.read_csv(folder+pred_folder + \"{}_{}_agesex_prediction_all.csv\".format(endpoint,dataset),index_col = 'Barcode2d')\n",
    "pred_baseline = pd.read_csv(folder+pred_folder + \"{}_{}_baseline2_prediction_all.csv\".format(endpoint,dataset),index_col = 'Barcode2d')"
   ]
  },
  {
   "cell_type": "code",
   "execution_count": null,
   "metadata": {},
   "outputs": [],
   "source": [
    "dataset = 'New_18105'\n",
    "keep_samples = keep_samples_dict[dataset]"
   ]
  },
  {
   "cell_type": "code",
   "execution_count": null,
   "metadata": {},
   "outputs": [],
   "source": [
    "HERA_death = pn_info.loc[keep_samples][pn_info.loc[keep_samples,'event_death']].index\n",
    "HERA_living = pn_info.loc[keep_samples][~pn_info.loc[keep_samples,'event_death']].index"
   ]
  },
  {
   "cell_type": "code",
   "execution_count": null,
   "metadata": {},
   "outputs": [],
   "source": [
    "pred_year = 'pred_y1'\n",
    "\n",
    "print('Age + sex dead people: ', pred_as.loc[HERA_death][pred_year].mean())\n",
    "print('Baseline dead people: ', pred_baseline.loc[HERA_death][pred_year].mean())\n",
    "print('Protein dead people: ', pred.loc[HERA_death][pred_year].mean())\n",
    "print('Age+sex living people: ', pred_as.loc[HERA_living][pred_year].mean())\n",
    "print('Baseline living people: ', pred_baseline.loc[HERA_living][pred_year].mean())\n",
    "print('Protein living people: ', pred.loc[HERA_living][pred_year].mean())"
   ]
  },
  {
   "cell_type": "code",
   "execution_count": null,
   "metadata": {},
   "outputs": [],
   "source": [
    "\n",
    "boxprops_pro = dict(color='C3', linewidth=2)    \n",
    "boxprops_as = dict(color='C0', linewidth=2)  \n",
    "# boxprops_gdf = dict(color='C2', linewidth=2)   \n",
    "boxprops_baseline = dict(color='C1', linewidth=2)   \n",
    "\n",
    "bp1 = plt.boxplot([pred.loc[HERA_death][pred_year],pred.loc[HERA_living][pred_year]], positions = [1,3], boxprops =boxprops_pro)\n",
    "bp2 = plt.boxplot([pred_baseline.loc[HERA_death][pred_year],pred_baseline.loc[HERA_living][pred_year]], positions = [1.5,3.5], boxprops =boxprops_baseline)\n",
    "bp3 = plt.boxplot([pred_as.loc[HERA_death][pred_year],pred_as.loc[HERA_living][pred_year]], positions = [2,4], boxprops =boxprops_as)\n",
    "\n",
    "plt.legend([bp1['boxes'][0],bp2['boxes'][0],bp3['boxes'][0]],['Age+sex+Protein','Baseline','Age+sex'],loc='upper right')\n",
    "plt.xticks([1.5,3.5],labels = ['Dead','Living'])\n",
    "plt.ylabel('Predicted risk')\n",
    "plt.xlabel('')\n",
    "plt.axis([0,5,-0.05,1])\n",
    "plt.grid()\n",
    "plt.savefig(folder+plots+'{}_{}_{}_boxplot_living_vs_dead.png'.format(endpoint,dataset,pred_year))\n",
    "# plt.show()"
   ]
  },
  {
   "cell_type": "code",
   "execution_count": null,
   "metadata": {},
   "outputs": [],
   "source": [
    "print(roc_auc_score(pn_info.loc[keep_samples,'event_death'],pred_as.loc[keep_samples,pred_year] ))\n",
    "print(roc_auc_score(pn_info.loc[keep_samples,'event_death'],pred_baseline.loc[keep_samples,pred_year] ))\n",
    "print(roc_auc_score(pn_info.loc[keep_samples,'event_death'],pred.loc[keep_samples,pred_year] ))"
   ]
  },
  {
   "cell_type": "code",
   "execution_count": null,
   "metadata": {},
   "outputs": [],
   "source": [
    "print(concordance_index_censored(pn_info.loc[keep_samples,'event_death'],pn_info.loc[keep_samples,'time_to_death'],pred_as.loc[keep_samples,pred_year] ))\n",
    "print(concordance_index_censored(pn_info.loc[keep_samples,'event_death'],pn_info.loc[keep_samples,'time_to_death'],pred_baseline.loc[keep_samples,pred_year] ))\n",
    "print(concordance_index_censored(pn_info.loc[keep_samples,'event_death'],pn_info.loc[keep_samples,'time_to_death'],pred.loc[keep_samples,pred_year] ))"
   ]
  },
  {
   "cell_type": "code",
   "execution_count": null,
   "metadata": {},
   "outputs": [],
   "source": [
    "pn_info.loc[HERA_death][['Age_at_sample_collection_2','time_to_death']]"
   ]
  },
  {
   "cell_type": "code",
   "execution_count": null,
   "metadata": {},
   "outputs": [],
   "source": [
    "HERA_death.shape"
   ]
  },
  {
   "cell_type": "code",
   "execution_count": null,
   "metadata": {},
   "outputs": [],
   "source": [
    "(pn_info.loc[HERA_death][['time_to_death']]<5).sum()"
   ]
  },
  {
   "cell_type": "code",
   "execution_count": null,
   "metadata": {},
   "outputs": [],
   "source": [
    "# %%capture cap --no-stderr\n",
    "k = k_plot\n",
    "pred_year = 'pred_y' + str(k)# k=4\n",
    "keep_samples = keep_samples[(pn_info.loc[keep_samples,'Age_at_sample_collection_2']>60)&(pn_info.loc[keep_samples,'Age_at_sample_collection_2']<80)]\n",
    "\n",
    "# pred_as.loc[keep_samples,pred_year] ))\n",
    "# print(concordance_index_censored(pn_info.loc[keep_samples,'event_death'],pn_info.loc[keep_samples,'time_to_death'],pred_baseline.loc[keep_samples,pred_year] ))\n",
    "# print(concordance_index_censored(pn_info.loc[keep_samples,'event_death'],pn_info.loc[keep_samples,'time_to_death'],pred.loc[keep_samples,pred_year] \n",
    "preds = [[pred_as.loc[keep_samples,pred_year]],[pred_baseline.loc[keep_samples,pred_year]],[pred_pro.loc[keep_samples,pred_year]]]\n",
    "# keys = ['{}_y{}_agesex_lr'.format(dataset,k),'{}_y{}_baseline2_lr'.format(dataset,k),\n",
    "#        '{}_y{}_agesexGDF15_lr'.format(dataset,k),'{}_y{}_agesexprotein_l1'.format(dataset,k)]\n",
    "name_keys = ['Age+sex','Baseline','Age+sex+Protein']\n",
    "fig = plt.figure(figsize = [10,6])\n",
    "for j,pred in enumerate(preds):\n",
    "#     risk_bins =  np.digitize(pred,np.quantile(pred,[0,0.05,0.2,0.8,0.95,1]))\n",
    "    risk_bins =  np.digitize(pred,np.quantile(pred,[0,0.05,0.95,1]))[0]\n",
    "#     risk_bins =  np.digitize(pred,np.quantile(pred,[0,0.05,0.95,1]))\n",
    "#     pred= pd.DataFrame(pred,index=keep_samples)\n",
    "\n",
    "#     fig.add_subplot(2,2,j+1)\n",
    "    KMFs = []\n",
    "    timeline = np.arange(0,5,0.1)\n",
    "    for i in range(3,0,-1):\n",
    "        kmf =  ll.fitters.kaplan_meier_fitter.KaplanMeierFitter()\n",
    "        ind = keep_samples[risk_bins==i]\n",
    "        kmf.fit(time_to_event[ind],use_event[ind], timeline = timeline)\n",
    "        KMFs.append(kmf)\n",
    "        print(kmf.event_table.loc[0,'at_risk'],1- kmf.predict(1),1-kmf.predict(2))\n",
    "    prob_high_risk = KMFs[0].cumulative_density_at_times(timeline)\n",
    "    prob_low_risk =  KMFs[-1].cumulative_density_at_times(timeline)\n",
    "    plt.plot(timeline,(1-prob_high_risk)/(1-prob_low_risk))\n",
    "#     plt.plot(timeline,(1-prob_low_risk)/(1-prob_high_risk))\n",
    "#     plt.plot(timeline,(prob_high_risk)/(prob_low_risk))\n",
    "#     plt.plot(timeline,(prob_low_risk)/(prob_high_risk))\n",
    "#     plt.plot(timeline,1-prob_high_risk )\n",
    "plt.legend(name_keys)\n",
    "plt.axis([0,5,0,1.05])\n",
    "plt.ylabel('Survival of 5% at highest risk \\n divided by \\n survival of 5% at lowest risk')\n",
    "plt.xlabel('Time in years')\n",
    "\n",
    "plt.grid(True)\n",
    "#     plt.show()\n",
    "# if save_plot: \n",
    "#     plt.savefig(folder+plots+plot_folder+'{}_{}_KaplanMeier_highvslow_6080_10p_y{}.png'.format(endpoint,dataset,k),bbox_inches='tight')\n"
   ]
  },
  {
   "cell_type": "code",
   "execution_count": null,
   "metadata": {},
   "outputs": [],
   "source": [
    "risk_bins"
   ]
  },
  {
   "cell_type": "code",
   "execution_count": null,
   "metadata": {},
   "outputs": [],
   "source": []
  }
 ],
 "metadata": {
  "kernelspec": {
   "display_name": "Python 3",
   "language": "python",
   "name": "python3"
  },
  "language_info": {
   "codemirror_mode": {
    "name": "ipython",
    "version": 3
   },
   "file_extension": ".py",
   "mimetype": "text/x-python",
   "name": "python",
   "nbconvert_exporter": "python",
   "pygments_lexer": "ipython3",
   "version": "3.6.3"
  }
 },
 "nbformat": 4,
 "nbformat_minor": 4
}
