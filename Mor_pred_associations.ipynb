{
 "cells": [
  {
   "cell_type": "code",
   "execution_count": null,
   "metadata": {},
   "outputs": [],
   "source": [
    "import pandas as pd\n",
    "import numpy as np\n",
    "from sklearn.model_selection import train_test_split, KFold\n",
    "import statsmodels.api as sm\n",
    "from sklearn.metrics import accuracy_score, roc_auc_score, recall_score, precision_score, confusion_matrix, log_loss\n",
    "from sklearn.metrics import precision_recall_curve, roc_curve\n",
    "from sklearn.linear_model import LogisticRegression, LogisticRegressionCV\n",
    "from sklearn.preprocessing import quantile_transform\n",
    "from sklearn.feature_selection import chi2, f_classif, mutual_info_classif, SelectFdr\n",
    "import matplotlib.pyplot as plt\n",
    "import pickle\n",
    "from sksurv.metrics import concordance_index_censored\n",
    "import lifelines as ll\n",
    "import glob\n",
    "import os\n",
    "import seaborn as sns\n",
    "from scipy.stats import ttest_ind\n",
    "# from lifelines.utils.sklearn_adapter import sklearn_adapter\n",
    "# CoxRegression = sklearn_adapter(ll.CoxPHFitter, event_col = 'event')\n",
    "import sys\n",
    "sys.path.append('/odinn/users/thjodbjorge/Python_functions/')\n",
    "import Predict_functions as pf\n",
    "from Calculate_score import calculate_metrics, make_class_table\n",
    "from R_functions import R_pROC,R_pROC_compareROC,R_pROC_compareROC_boot, R_pROC_AUC, R_timeROC, R_timeROC_CI, R_timeROC_pval, R_NRIbin,R_NRIcens,R_NRIcensipw, R_censROC, R_hoslem, R_Greenwood_Nam\n",
    "from association_functions import group_assoc, associations"
   ]
  },
  {
   "cell_type": "code",
   "execution_count": null,
   "metadata": {},
   "outputs": [],
   "source": [
    "# raw_data = pd.read_csv('/odinn/users/thjodbjorge/Proteomics/Data/raw_with_info.csv',index_col = 'Barcode2d' )\n",
    "probe_info = pd.read_csv('/odinn/users/thjodbjorge/Proteomics/Data/probe_info.csv', index_col = 'SeqId')\n",
    "\n",
    "pn_info = pd.read_csv('/odinn/users/thjodbjorge/Proteomics/Data/pn_info_Mor/pn_info_Mor_event.csv',index_col = 'Barcode2d' )\n",
    "probes_to_skip = pd.read_csv('/odinn/users/thjodbjorge/Proteomics/Data/probes_to_skip.txt')['probe']\n",
    "nopro = pd.read_csv('/odinn/users/thjodbjorge/Proteomics/Data/no_protein_probes.txt', header = None)[0] # non-proten probes that were included \n",
    "probes_to_skip = set(probes_to_skip).union(set(nopro))"
   ]
  },
  {
   "cell_type": "code",
   "execution_count": null,
   "metadata": {},
   "outputs": [],
   "source": [
    "folder = '/odinn/users/thjodbjorge/Proteomics/Mortality2/'\n",
    "feat_folder = 'Features2/'\n",
    "pred_folder = 'Predictions3/'\n",
    "plots = 'Plots2/'\n",
    "save_plot = False\n",
    "endpoints = ['death']\n",
    "# endpoints = ['death','Cdeath','Gdeath','Ideath','Jdeath','Otherdeath']\n",
    "# event_date = event_date_death\n",
    "time_to_event = pn_info.time_to_death\n",
    "no_event_before = pn_info.no_death_before\n",
    "for endpoint in endpoints:\n",
    "    if endpoint == 'death':\n",
    "        use_event = pn_info.event_death\n",
    "        print(use_event.sum())\n",
    "    elif endpoint == 'Cdeath':\n",
    "        use_event = pn_info.event_death & (pn_info.ICD_group == 'C')\n",
    "        print(use_event.sum())\n",
    "    elif endpoint == 'Gdeath':\n",
    "        use_event = pn_info.event_death & (pn_info.ICD_group == 'G')\n",
    "        print(use_event.sum())\n",
    "    elif endpoint == 'Ideath':\n",
    "        use_event = pn_info.event_death & (pn_info.ICD_group == 'I')\n",
    "        print(use_event.sum())\n",
    "    elif endpoint == 'Jdeath':\n",
    "        use_event = pn_info.event_death & (pn_info.ICD_group == 'J')\n",
    "        print(use_event.sum())\n",
    "    elif endpoint == 'Otherdeath':\n",
    "        use_event = pn_info.event_death & (~(pn_info.ICD_group == 'C')&~(pn_info.ICD_group == 'G')&~(pn_info.ICD_group == 'I')&~(pn_info.ICD_group == 'J'))\n",
    "        print(use_event.sum())\n",
    "\n",
    "y = []\n",
    "for i in range(1,19):\n",
    "    y.append(use_event & (time_to_event <= i))\n",
    "\n",
    "kf = KFold(n_splits=10, random_state=10, shuffle=False) \n",
    "I_train_main, I_test_main = train_test_split(pn_info.index, train_size=0.7, random_state = 10)\n",
    "# I_val_main, I_test_main = train_test_split(I_test_main, train_size=0.5, random_state = 10)\n",
    "\n",
    "\n",
    "file = open(folder+\"{}_keep_samples.pkl\".format('Mor'),'rb')\n",
    "keep_samples_dict = pickle.load(file)\n",
    "\n",
    "print(keep_samples_dict.keys())"
   ]
  },
  {
   "cell_type": "markdown",
   "metadata": {},
   "source": [
    "### Load Hera phenotypes"
   ]
  },
  {
   "cell_type": "code",
   "execution_count": null,
   "metadata": {},
   "outputs": [],
   "source": [
    "D = glob.glob('/odinn/data/phenotypes/pipeline/current_lists/quantitative//HERA*')\n",
    "# D = D1+D2+D3+D4\n",
    "print(len(D))\n",
    "HERA_qt = pd.read_csv(D[0], delim_whitespace=True, index_col=0, names=['PN',os.path.basename(D[0])])\n",
    "\n",
    "for i in range(1,len(D)):\n",
    "        dfnew = pd.read_csv(D[i], delim_whitespace=True, index_col=0, names=['PN',os.path.basename(D[i])])\n",
    "        HERA_qt=pd.merge(HERA_qt,dfnew, how='outer', left_index=True, right_index=True)"
   ]
  },
  {
   "cell_type": "code",
   "execution_count": null,
   "metadata": {},
   "outputs": [],
   "source": [
    "D = glob.glob('/odinn/data/phenotypes/pipeline/current_lists/categorical//HERA*')\n",
    "# D = D1+D2+D3+D4\n",
    "print(len(D))\n",
    "HERA_cat = pd.read_csv(D[0], delim_whitespace=True, index_col=0, names=['PN',os.path.basename(D[0])])\n",
    "\n",
    "for i in range(1,len(D)):\n",
    "    try:\n",
    "        dfnew = pd.read_csv(D[i], delim_whitespace=True, index_col=0, names=['PN',os.path.basename(D[i])])\n",
    "        HERA_cat=pd.merge(HERA_cat,dfnew, how='outer', left_index=True, right_index=True)\n",
    "    except:\n",
    "        continue"
   ]
  },
  {
   "cell_type": "code",
   "execution_count": null,
   "metadata": {},
   "outputs": [],
   "source": [
    "HERA_cat"
   ]
  },
  {
   "cell_type": "markdown",
   "metadata": {},
   "source": [
    "### Prepare pn_info variables"
   ]
  },
  {
   "cell_type": "code",
   "execution_count": null,
   "metadata": {},
   "outputs": [],
   "source": [
    "X = pd.DataFrame(index=pn_info.index)\n",
    "X['PN'] = pn_info['PN']\n",
    "X['sex'] = pn_info[['sex']].values-1\n",
    "X['age'] = pn_info[['Age_at_sample_collection_2']].values\n",
    "\n",
    "X['age2'] = X['age']**2\n",
    "X['age3'] = X['age']**3\n",
    "X['agesex'] = X['age']*X['sex']\n",
    "X['age2sex'] = X['age2']*X['sex']\n",
    "X['lnage'] = np.log(X['age'])\n",
    "\n",
    "agesex = ['age','sex','agesex','age2','age2sex']"
   ]
  },
  {
   "cell_type": "code",
   "execution_count": null,
   "metadata": {},
   "outputs": [],
   "source": [
    "X = X.merge(HERA_qt, how = 'left',left_on='PN', right_index=True)\n",
    "X = X.merge(HERA_cat, how = 'left',left_on='PN', right_index=True)"
   ]
  },
  {
   "cell_type": "code",
   "execution_count": null,
   "metadata": {
    "scrolled": true
   },
   "outputs": [],
   "source": [
    "dataset = 'Old_18105'\n",
    "HERA_dataset = 'HERA_18105'\n",
    "all_dataset = 'All_18105'\n",
    "new_dataset = 'New_18105'\n",
    "\n",
    "pred_protein = pd.read_csv(folder+pred_folder+'{}_{}_protein_prediction_all.csv'.format(endpoint,dataset),index_col = 'Barcode2d')\n",
    "pred_baseline = pd.read_csv(folder+pred_folder+'{}_{}_baseline_prediction_all.csv'.format(endpoint,dataset),index_col = 'Barcode2d')\n",
    "# try: \n",
    "#     file = open(folder+pred_folder + \"{}_{}_all_prediction.pkl\".format(endpoint,dataset),'rb')\n",
    "#     pred_dict = pickle.load(file)\n",
    "# except:\n",
    "#     print('No test predictions')\n",
    "  \n",
    "# print(pred_dict.keys())\n",
    "\n",
    "k_plot=4\n",
    "k = k_plot\n",
    "\n",
    "plot_folder = '{}_{}/'.format(endpoint,dataset)\n",
    "\n",
    "keep_samples = keep_samples_dict[dataset]\n",
    "\n",
    "I_train = I_train_main.intersection(keep_samples)#.intersection(have_prs)\n",
    "I_test = I_test_main.intersection(keep_samples)#.intersection(have_prs)\n",
    "\n",
    "hera_samples = keep_samples_dict[HERA_dataset]\n",
    "old_samples = keep_samples_dict[dataset]\n",
    "all_samples = keep_samples_dict[all_dataset]\n",
    "new_samples = keep_samples_dict[new_dataset]\n",
    "\n",
    "I_old = old_samples\n",
    "I_use =  hera_samples\n",
    "\n",
    "y_train = y[k][I_train]\n",
    "y_test= y[k][I_test]\n",
    "y_use = y[k][I_use]\n"
   ]
  },
  {
   "cell_type": "code",
   "execution_count": null,
   "metadata": {},
   "outputs": [],
   "source": [
    "k=k_plot\n",
    "# pred = pred_dict['{}_y{}_agesexprotein_l1'.format(dataset,k)]\n",
    "pred = pred_protein['pred_y{}'.format(k)]\n",
    "\n",
    "pred = pred.loc[I_use]\n",
    "\n",
    "corr_col = agesex\n",
    "pred_corr = pred.values - sm.OLS(pred,sm.add_constant(X.loc[I_use,corr_col])).fit().predict(sm.add_constant(X.loc[I_use,corr_col]))\n",
    "pred_corr = pred_corr/pred_corr.std()\n",
    "\n",
    "### experiment with correcting with splines\n",
    "# I tried corrrecting for age with a smooth component to see if it affected the calculated correlations signifcantly. \n",
    "# It seems that the better age correction results in higher absolute correlation to phenotypes in most cases.\n",
    "from statsmodels.gam.api import GLMGam, BSplines\n",
    "agespline = BSplines(X.loc[I_use,['age','sex','agesex']],df=[5,5,5],degree=[3,2,3],include_intercept=True)\n",
    "# GLMres = GLMGam(pred_corr, None,agespline).fit()\n",
    "GLMres = GLMGam(pred, None,agespline).fit()\n",
    "pred_corr = pred.values- GLMres.predict()\n",
    "pred_corr = pred_corr/pred_corr.std()\n",
    "\n",
    "### ------------\n",
    "\n",
    "plt.plot(X.loc[I_use,'age'].sort_values(),np.sort(GLMres.predict()),'r')\n",
    "plt.scatter(X.loc[I_use,'age'],pred_corr,alpha=0.2)\n",
    "plt.title('Prediction after correction')\n",
    "plt.xlabel('Age')\n",
    "plt.ylabel('Prediction')\n",
    "plt.legend(['Smoothly fitted age to corrected values','data points'])\n",
    "\n",
    "X.loc[I_use,'pred'] = pred.values\n",
    "X.loc[I_use,'pred_corr'] = pred_corr\n",
    "X.loc[I_use,'pred_std'] = ((pred-pred.mean())/pred.std()).values\n",
    "X.loc[I_use,'pred_corr_norm'] = quantile_transform(np.array(pred_corr).reshape(-1,1), n_quantiles=40000, random_state=10, output_distribution = 'normal',copy=True)\n",
    "\n",
    "# pred_as = pred_dict['{}_y{}_baseline_lr'.format(dataset,k)]\n",
    "pred_as = pred_baseline['pred_y{}'.format(k)]\n",
    "\n",
    "\n",
    "pred_as = pred_as.loc[I_use]\n",
    "pred_as_corr = pred_as.values - sm.OLS(pred_as,sm.add_constant(X.loc[I_use,corr_col])).fit().predict(sm.add_constant(X.loc[I_use,corr_col]))\n",
    "pred_as_corr = pred_as_corr/pred_as_corr.std()\n",
    "\n",
    "X.loc[I_use,'baseline'] = pred_as.values\n",
    "X.loc[I_use,'baseline_corr'] = pred_as_corr\n",
    "X.loc[I_use,'baseline_std'] = ((pred_as-pred_as.mean())/pred_as.std()).values"
   ]
  },
  {
   "cell_type": "code",
   "execution_count": null,
   "metadata": {},
   "outputs": [],
   "source": [
    "k=k_plot\n",
    "# pred = pred_dict['{}_y{}_agesexprotein_l1'.format(dataset,k)]\n",
    "pred = pred_protein['pred_y{}'.format(k)]\n",
    " \n",
    "pred = pred.loc[I_old]\n",
    "\n",
    "corr_col = agesex\n",
    "pred_corr = pred.values - sm.OLS(pred,sm.add_constant(X.loc[I_old,corr_col])).fit().predict(sm.add_constant(X.loc[I_old,corr_col]))\n",
    "\n",
    "pred_corr = pred_corr/pred_corr.std()\n",
    "\n",
    "X.loc[I_old,'old_pred'] = pred.values\n",
    "X.loc[I_old,'old_pred_corr'] = pred_corr\n",
    "X.loc[I_old,'old_pred_std'] = ((pred-pred.mean())/pred.std()).values\n",
    "\n",
    "# pred_as = pred_dict['{}_y{}_baseline_lr'.format(dataset,k)]\n",
    "pred_as = pred_baseline['pred_y{}'.format(k)]\n",
    " \n",
    "pred_as = pred_as.loc[I_old]\n",
    "pred_as_corr = pred_as.values - sm.OLS(pred_as,sm.add_constant(X.loc[I_old,corr_col])).fit().predict(sm.add_constant(X.loc[I_old,corr_col]))\n",
    "pred_as_corr = pred_as_corr/pred_as_corr.std()\n",
    "\n",
    "X.loc[I_old,'old_baseline'] = pred_as.values\n",
    "X.loc[I_old,'old_baseline_corr'] = pred_as_corr\n",
    "X.loc[I_old,'old_baseline_std'] = ((pred_as-pred_as.mean())/pred_as.std()).values"
   ]
  },
  {
   "cell_type": "code",
   "execution_count": null,
   "metadata": {},
   "outputs": [],
   "source": [
    "I_use = all_samples\n",
    "k=k_plot\n",
    "# pred = pred_dict['{}_y{}_agesexprotein_l1'.format(dataset,k)]\n",
    "pred = pred_protein['pred_y{}'.format(k)]\n",
    "pred = pred.loc[I_use]\n",
    "\n",
    "corr_col = agesex\n",
    "pred_corr = pred.values - sm.OLS(pred,sm.add_constant(X.loc[I_use,corr_col])).fit().predict(sm.add_constant(X.loc[I_use,corr_col]))\n",
    "\n",
    "pred_corr = pred_corr/pred_corr.std()\n",
    "\n",
    "X.loc[I_use,'all_pred'] = pred.values\n",
    "X.loc[I_use,'all_pred_corr'] = pred_corr\n",
    "X.loc[I_use,'all_pred_std'] = ((pred-pred.mean())/pred.std()).values\n",
    "\n",
    "# pred_as = pred_dict['{}_y{}_baseline_lr'.format(dataset,k)]\n",
    "pred_as = pred_baseline['pred_y{}'.format(k)]\n",
    " \n",
    "pred_as = pred_as.loc[I_use]\n",
    "pred_as_corr = pred_as.values - sm.OLS(pred_as,sm.add_constant(X.loc[I_use,corr_col])).fit().predict(sm.add_constant(X.loc[I_use,corr_col]))\n",
    "pred_as_corr = pred_as_corr/pred_as_corr.std()\n",
    "\n",
    "X.loc[I_use,'all_baseline'] = pred_as.values\n",
    "X.loc[I_use,'all_baseline_corr'] = pred_as_corr\n",
    "X.loc[I_use,'all_baseline_std'] = ((pred_as-pred_as.mean())/pred_as.std()).values"
   ]
  },
  {
   "cell_type": "code",
   "execution_count": null,
   "metadata": {},
   "outputs": [],
   "source": [
    "I_use = new_samples\n",
    "k=k_plot\n",
    "# pred = pred_dict['{}_y{}_agesexprotein_l1'.format(dataset,k)]\n",
    "pred = pred_protein['pred_y{}'.format(k)]\n",
    "pred = pred.loc[I_use]\n",
    "\n",
    "corr_col = agesex\n",
    "pred_corr = pred.values - sm.OLS(pred,sm.add_constant(X.loc[I_use,corr_col])).fit().predict(sm.add_constant(X.loc[I_use,corr_col]))\n",
    "\n",
    "pred_corr = pred_corr/pred_corr.std()\n",
    "\n",
    "X.loc[I_use,'new_pred'] = pred.values\n",
    "X.loc[I_use,'new_pred_corr'] = pred_corr\n",
    "X.loc[I_use,'new_pred_std'] = ((pred-pred.mean())/pred.std()).values\n",
    "\n",
    "# pred_as = pred_dict['{}_y{}_baseline_lr'.format(dataset,k)]\n",
    "pred_as = pred_baseline['pred_y{}'.format(k)]\n",
    " \n",
    "pred_as = pred_as.loc[I_use]\n",
    "pred_as_corr = pred_as.values - sm.OLS(pred_as,sm.add_constant(X.loc[I_use,corr_col])).fit().predict(sm.add_constant(X.loc[I_use,corr_col]))\n",
    "pred_as_corr = pred_as_corr/pred_as_corr.std()\n",
    "\n",
    "X.loc[I_use,'new_baseline'] = pred_as.values\n",
    "X.loc[I_use,'new_baseline_corr'] = pred_as_corr\n",
    "X.loc[I_use,'new_baseline_std'] = ((pred_as-pred_as.mean())/pred_as.std()).values"
   ]
  },
  {
   "cell_type": "markdown",
   "metadata": {},
   "source": [
    "### HERA quantitative"
   ]
  },
  {
   "cell_type": "code",
   "execution_count": null,
   "metadata": {},
   "outputs": [],
   "source": [
    "# %load_ext autoreload\n",
    "# %autoreload 2"
   ]
  },
  {
   "cell_type": "code",
   "execution_count": null,
   "metadata": {},
   "outputs": [],
   "source": [
    "I_use = hera_samples"
   ]
  },
  {
   "cell_type": "code",
   "execution_count": null,
   "metadata": {
    "scrolled": true
   },
   "outputs": [],
   "source": [
    "# pred_res = (pred_res-pred_res.mean())/pred_res.std()\n",
    "covariates = agesex\n",
    "pred_type={'org': 'pred', 'corr': 'pred_corr','std':'pred_std'}\n",
    "# print('Hera')\n",
    "ass_df = associations(X=X,col_names=HERA_qt,covariates=covariates, I_use=I_use, pred_type=pred_type,check_age=True)"
   ]
  },
  {
   "cell_type": "code",
   "execution_count": null,
   "metadata": {},
   "outputs": [],
   "source": [
    "display(ass_df.sort_values('pearson_pval').iloc[:20,:20])\n",
    "if save_plot:\n",
    "    ass_df.sort_values('pearson_pval').to_csv(folder+plots+plot_folder+'{}_{}_HERA_associations_quantitative_y{}.txt'.format(endpoint,dataset,k))\n",
    "ass_df.sort_values('pearson_pval').to_csv(folder+plots+plot_folder+'tmp.csv')"
   ]
  },
  {
   "cell_type": "markdown",
   "metadata": {},
   "source": [
    "#### Baseline"
   ]
  },
  {
   "cell_type": "code",
   "execution_count": null,
   "metadata": {
    "scrolled": true
   },
   "outputs": [],
   "source": [
    "k=k_plot\n",
    "\n",
    "# pred_res = (pred_res-pred_res.mean())/pred_res.std()\n",
    "covariates = agesex\n",
    "pred_type={'org': 'baseline', 'corr': 'baseline_corr','std':'baseline_std'}\n",
    "# print('Hera')\n",
    "ass_df = associations(X=X,col_names=HERA_qt,covariates=covariates, I_use=I_use, pred_type=pred_type,check_age=True)\n",
    "display(ass_df.sort_values('pearson_pval').iloc[:20,])\n",
    "if save_plot:\n",
    "    ass_df.sort_values('pearson_pval').to_csv(folder+plots+plot_folder+'{}_{}_HERA_associations_quantitative_y{}_Baseline.txt'.format(endpoint,dataset,k))\n"
   ]
  },
  {
   "cell_type": "code",
   "execution_count": null,
   "metadata": {},
   "outputs": [],
   "source": [
    "ass_df.columns"
   ]
  },
  {
   "cell_type": "markdown",
   "metadata": {},
   "source": [
    "### HERA categorical"
   ]
  },
  {
   "cell_type": "code",
   "execution_count": null,
   "metadata": {},
   "outputs": [],
   "source": [
    "I_use = hera_samples"
   ]
  },
  {
   "cell_type": "code",
   "execution_count": null,
   "metadata": {
    "scrolled": true
   },
   "outputs": [],
   "source": [
    "k=k_plot\n",
    "\n",
    "covariates = agesex\n",
    "pred_type={'org': 'pred', 'corr': 'pred_corr','std':'pred_std'}\n",
    "ass_df = associations(X=X,col_names=HERA_cat,covariates=covariates, I_use=I_use, pred_type=pred_type,categorical = True)\n",
    "display(ass_df.sort_values('ttest_pval'))\n",
    "\n"
   ]
  },
  {
   "cell_type": "code",
   "execution_count": null,
   "metadata": {},
   "outputs": [],
   "source": [
    "# display(ass_df.sort_values('pearson_pval').iloc[:20,])\n",
    "if save_plot:\n",
    "    ass_df.sort_values('ttest_pval').to_csv(folder+plots+plot_folder+'{}_{}_HERA_associations_Categorical_y{}.txt'.format(endpoint,dataset,k))\n"
   ]
  },
  {
   "cell_type": "code",
   "execution_count": null,
   "metadata": {
    "scrolled": true
   },
   "outputs": [],
   "source": [
    "k=k_plot\n",
    "\n",
    "# pred_res = (pred_res-pred_res.mean())/pred_res.std()\n",
    "covariates = agesex\n",
    "pred_type={'org': 'baseline', 'corr': 'baseline_corr','std':'baseline_std'}\n",
    "ass_df = associations(X=X,col_names=HERA_cat,covariates=covariates, I_use=I_use, pred_type=pred_type,categorical = True)\n",
    "display(ass_df.sort_values('ttest_pval'))\n",
    "if save_plot:\n",
    "    ass_df.sort_values('ttest_pval').to_csv(folder+plots+plot_folder+'{}_{}_HERA_associations_Categorical_y{}_Baseline.txt'.format(endpoint,dataset,k))\n"
   ]
  },
  {
   "cell_type": "markdown",
   "metadata": {},
   "source": [
    "### Other binary phenotypes"
   ]
  },
  {
   "cell_type": "code",
   "execution_count": null,
   "metadata": {},
   "outputs": [],
   "source": [
    "D = ['/odinn/data/phenotypes/pipeline/current_lists/categorical/Somatic_SNP_outliers_yes_vs_no_11092018.txt']\n",
    "# D = D1+D2+D3+D4\n",
    "print(len(D))\n",
    "clonalh = pd.read_csv(D[0], delim_whitespace=True, index_col=0, names=['PN','clonalh'])"
   ]
  },
  {
   "cell_type": "code",
   "execution_count": null,
   "metadata": {},
   "outputs": [],
   "source": [
    "X = X.merge(clonalh, how = 'left',left_on='PN', right_index=True)"
   ]
  },
  {
   "cell_type": "code",
   "execution_count": null,
   "metadata": {},
   "outputs": [],
   "source": [
    "\n",
    "X['CAD'] =( ~pn_info.no_CAD_before)*1\n",
    "X['MI'] = (~pn_info.no_MI_before)*1\n",
    "X['cancer'] = pn_info.cancer_margin*1\n",
    "X['Smoker'] = pn_info['Smoker'].astype(int).values\n",
    "X['diabetes'] = pn_info['T2D'].astype(int).values\n",
    "X['statin'] = pn_info.statin_estimate_unsure * 1\n",
    "X['HTN_treated'] = pn_info[['HTN_treated']].astype(int).values"
   ]
  },
  {
   "cell_type": "code",
   "execution_count": null,
   "metadata": {},
   "outputs": [],
   "source": [
    "binphen = ['Smoker','diabetes','CAD','MI','statin','clonalh','cancer','HTN_treated']\n",
    "covariates = agesex"
   ]
  },
  {
   "cell_type": "code",
   "execution_count": null,
   "metadata": {},
   "outputs": [],
   "source": [
    "I_use = hera_samples\n",
    "pred_type={'org': 'pred', 'corr': 'pred_corr','std':'pred_std'}\n",
    "ass_df = associations(X=X,col_names=binphen,covariates=covariates, I_use=I_use, pred_type=pred_type,categorical = True)\n",
    "display(ass_df.sort_values('ttest_pval'))\n",
    "if save_plot:\n",
    "    ass_df.sort_values('ttest_pval').to_csv(folder+plots+plot_folder+'{}_{}_associations_Categorical_OtherHERA_y{}.txt'.format(endpoint,dataset,k))"
   ]
  },
  {
   "cell_type": "code",
   "execution_count": null,
   "metadata": {},
   "outputs": [],
   "source": [
    "I_use = hera_samples.intersection(all_samples)\n",
    "pred_type={'org': 'pred', 'corr': 'pred_corr','std':'pred_std'}\n",
    "ass_df = associations(X=X,col_names=binphen,covariates=covariates, I_use=I_use, pred_type=pred_type,categorical = True)\n",
    "display(ass_df.sort_values('ttest_pval'))\n",
    "if save_plot:\n",
    "    ass_df.sort_values('ttest_pval').to_csv(folder+plots+plot_folder+'{}_{}_associations_Categorical_OtherHERAbf2019_y{}.txt'.format(endpoint,dataset,k))"
   ]
  },
  {
   "cell_type": "code",
   "execution_count": null,
   "metadata": {},
   "outputs": [],
   "source": [
    "I_use = new_samples.intersection(all_samples)\n",
    "pred_type={'org': 'new_pred', 'corr': 'new_pred_corr','std':'new_pred_std'}\n",
    "ass_df = associations(X=X,col_names=binphen,covariates=covariates, I_use=I_use, pred_type=pred_type,categorical = True)\n",
    "display(ass_df.sort_values('ttest_pval'))\n",
    "if save_plot:\n",
    "    ass_df.sort_values('ttest_pval').to_csv(folder+plots+plot_folder+'{}_{}_associations_Categorical_OtherNewbf2019_y{}.txt'.format(endpoint,dataset,k))"
   ]
  },
  {
   "cell_type": "code",
   "execution_count": null,
   "metadata": {},
   "outputs": [],
   "source": [
    "I_use = new_samples\n",
    "pred_type={'org': 'new_pred', 'corr': 'new_pred_corr','std':'new_pred_std'}\n",
    "ass_df = associations(X=X,col_names=binphen,covariates=covariates, I_use=I_use, pred_type=pred_type,categorical = True)\n",
    "display(ass_df.sort_values('ttest_pval'))\n",
    "if save_plot:\n",
    "    ass_df.sort_values('ttest_pval').to_csv(folder+plots+plot_folder+'{}_{}_associations_Categorical_OtherNew_y{}.txt'.format(endpoint,dataset,k))"
   ]
  },
  {
   "cell_type": "code",
   "execution_count": null,
   "metadata": {},
   "outputs": [],
   "source": [
    "I_use = hera_samples\n",
    "pred_type={'org': 'baseline', 'corr': 'baseline_corr','std':'baseline_std'}\n",
    "ass_df = associations(X=X,col_names=binphen,covariates=covariates, I_use=I_use, pred_type=pred_type,categorical = True)\n",
    "display(ass_df.sort_values('ttest_pval'))"
   ]
  },
  {
   "cell_type": "code",
   "execution_count": null,
   "metadata": {},
   "outputs": [],
   "source": [
    "pred_type={'org': 'old_pred', 'corr': 'old_pred_corr','std':'old_pred_std'}\n",
    "ass_df = associations(X=X,col_names=binphen,covariates=covariates, I_use=I_old, pred_type=pred_type,categorical = True)\n",
    "display(ass_df.sort_values('ttest_pval'))"
   ]
  },
  {
   "cell_type": "code",
   "execution_count": null,
   "metadata": {},
   "outputs": [],
   "source": [
    "pred_type={'org': 'old_baseline', 'corr': 'old_baseline_corr','std':'old_baseline_std'}\n",
    "ass_df = associations(X=X,col_names=binphen,covariates=covariates, I_use=I_old, pred_type=pred_type,categorical = True)\n",
    "display(ass_df.sort_values('ttest_pval'))"
   ]
  },
  {
   "cell_type": "code",
   "execution_count": null,
   "metadata": {},
   "outputs": [],
   "source": [
    "pred_type={'org': 'all_pred', 'corr': 'all_pred_corr','std':'all_pred_std'}\n",
    "ass_df = associations(X=X,col_names=binphen,covariates=covariates, I_use=all_samples, pred_type=pred_type,categorical = True)\n",
    "display(ass_df.sort_values('ttest_pval'))\n",
    "if save_plot:\n",
    "    ass_df.sort_values('ttest_pval').to_csv(folder+plots+plot_folder+'{}_{}_associations_Categorical_OtherAall_y{}.txt'.format(endpoint,dataset,k))"
   ]
  },
  {
   "cell_type": "markdown",
   "metadata": {},
   "source": [
    "#### Figures"
   ]
  },
  {
   "cell_type": "code",
   "execution_count": null,
   "metadata": {},
   "outputs": [],
   "source": [
    "VERY_SMALL_SIZE = 12\n",
    "SMALL_SIZE = 14\n",
    "MEDIUM_SIZE = 16\n",
    "BIGGER_SIZE = 16\n",
    "\n",
    "plt.rc('font', size=SMALL_SIZE)          # controls default text sizes\n",
    "plt.rc('axes', titlesize=BIGGER_SIZE)     # fontsize of the axes title\n",
    "plt.rc('axes', labelsize=MEDIUM_SIZE)    # fontsize of the x and y labels\n",
    "plt.rc('xtick', labelsize=SMALL_SIZE)    # fontsize of the tick labels\n",
    "plt.rc('ytick', labelsize=SMALL_SIZE)    # fontsize of the tick labels\n",
    "plt.rc('legend', fontsize=VERY_SMALL_SIZE)    # legend fontsize\n",
    "plt.rc('figure', titlesize=BIGGER_SIZE) "
   ]
  },
  {
   "cell_type": "code",
   "execution_count": null,
   "metadata": {},
   "outputs": [],
   "source": [
    "plot_list = []\n",
    "name_list = []\n",
    "plot_list_hera = []\n",
    "name_list_hera = []"
   ]
  },
  {
   "cell_type": "code",
   "execution_count": null,
   "metadata": {
    "scrolled": true
   },
   "outputs": [],
   "source": [
    "I_plot = hera_samples\n",
    "gs, gnos ,gsc,gnosc = group_assoc(X = X.loc[I_plot],pred = X.loc[I_plot,'pred'].values, \n",
    "                                  split = X.loc[I_plot,'statin'].astype(bool) , split_name = 'statin' )\n",
    "plot_list_hera.extend([gs,gnos])\n",
    "name_list_hera.extend(['Statin','No Statin'])\n",
    "\n",
    "I_plot = old_samples\n",
    "gs, gnos ,gsc,gnosc = group_assoc(X = X.loc[I_plot],pred = X.loc[I_plot,'old_pred'].values,\n",
    "                                  split = X.loc[I_plot,'statin'].astype(bool) , split_name = 'statin' )\n",
    "I_plot = all_samples\n",
    "gs, gnos ,gsc,gnosc = group_assoc(X = X.loc[I_plot],pred = X.loc[I_plot,'all_pred'].values,\n",
    "                                  split = X.loc[I_plot,'statin'].astype(bool) , split_name = 'statin' )"
   ]
  },
  {
   "cell_type": "code",
   "execution_count": null,
   "metadata": {
    "scrolled": true
   },
   "outputs": [],
   "source": [
    "I_plot = hera_samples\n",
    "gs, gnos ,gsc,gnosc = group_assoc(X = X.loc[I_plot],pred = X.loc[I_plot,'pred'].values, \n",
    "                                  split = X.loc[I_plot,'Smoker'].astype(bool) , split_name = 'Smoking' )\n",
    "plot_list_hera.extend([gs,gnos])\n",
    "name_list_hera.extend(['Smoking','No Smoking'])\n",
    "\n",
    "I_plot = old_samples\n",
    "gs, gnos ,gsc,gnosc = group_assoc(X = X.loc[I_plot],pred = X.loc[I_plot,'old_pred'].values,\n",
    "                                  split = X.loc[I_plot,'Smoker'].astype(bool) , split_name = 'Smoking' )\n",
    "\n",
    "I_plot = all_samples\n",
    "gs, gnos ,gsc,gnosc = group_assoc(X = X.loc[I_plot],pred = X.loc[I_plot,'all_pred'].values,\n",
    "                                  split = X.loc[I_plot,'Smoker'].astype(bool) , split_name = 'Smoking' )\n",
    "plot_list.extend([gs,gnos])\n",
    "name_list.extend(['Smoker','NoSmoker'])"
   ]
  },
  {
   "cell_type": "code",
   "execution_count": null,
   "metadata": {
    "scrolled": true
   },
   "outputs": [],
   "source": [
    "I_plot = hera_samples\n",
    "gs, gnos ,gsc,gnosc = group_assoc(X = X.loc[I_plot],pred = X.loc[I_plot,'pred'].values, \n",
    "                                  split = X.loc[I_plot,'clonalh'].astype(bool) , split_name = 'clonalh' )\n",
    "plot_list_hera.extend([gs,gnos])\n",
    "name_list_hera.extend(['clonalh','No clonalh'])\n",
    "\n",
    "I_plot = old_samples\n",
    "gs, gnos ,gsc,gnosc = group_assoc(X = X.loc[I_plot],pred = X.loc[I_plot,'old_pred'].values,\n",
    "                                  split = X.loc[I_plot,'clonalh'].astype(bool) , split_name = 'clonalh' )\n",
    "\n",
    "I_plot = all_samples\n",
    "gs, gnos ,gsc,gnosc = group_assoc(X = X.loc[I_plot],pred = X.loc[I_plot,'all_pred'].values,\n",
    "                                  split = X.loc[I_plot,'clonalh'].astype(bool) , split_name = 'clonalh' )\n",
    "plot_list.extend([gs,gnos])\n",
    "name_list.extend(['clonalh','No clonalh'])"
   ]
  },
  {
   "cell_type": "code",
   "execution_count": null,
   "metadata": {
    "scrolled": true
   },
   "outputs": [],
   "source": [
    "I_plot = hera_samples\n",
    "gs, gnos ,gsc,gnosc = group_assoc(X = X.loc[I_plot],pred = X.loc[I_plot,'pred'].values, \n",
    "                                  split = X.loc[I_plot,'diabetes'].astype(bool) , split_name = 'diabetes' )\n",
    "plot_list_hera.extend([gs,gnos])\n",
    "name_list_hera.extend(['Diabetes','No Diabetes'])\n",
    "\n",
    "I_plot = old_samples\n",
    "gs, gnos ,gsc,gnosc = group_assoc(X = X.loc[I_plot],pred = X.loc[I_plot,'old_pred'].values,\n",
    "                                  split = X.loc[I_plot,'diabetes'].astype(bool) , split_name = 'diabetes' )\n",
    "I_plot = all_samples\n",
    "gs, gnos ,gsc,gnosc = group_assoc(X = X.loc[I_plot],pred = X.loc[I_plot,'all_pred'].values,\n",
    "                                  split = X.loc[I_plot,'diabetes'].astype(bool) , split_name = 'diabetes' )\n",
    "plot_list.extend([gs,gnos])\n",
    "name_list.extend(['Diabetes','No Diabetes'])"
   ]
  },
  {
   "cell_type": "code",
   "execution_count": null,
   "metadata": {
    "scrolled": true
   },
   "outputs": [],
   "source": [
    "I_plot = hera_samples\n",
    "gs, gnos ,gsc,gnosc = group_assoc(X = X.loc[I_plot],pred = X.loc[I_plot,'pred'].values, \n",
    "                                  split = X.loc[I_plot,'CAD'].astype(bool) , split_name = 'CAD' )\n",
    "plot_list_hera.extend([gs,gnos])\n",
    "name_list_hera.extend(['CAD','No CAD'])\n",
    "\n",
    "I_plot = old_samples\n",
    "gs, gnos ,gsc,gnosc = group_assoc(X = X.loc[I_plot],pred = X.loc[I_plot,'old_pred'].values,\n",
    "                                  split = X.loc[I_plot,'CAD'].astype(bool) , split_name = 'CAD' )\n",
    "I_plot = all_samples\n",
    "gs, gnos ,gsc,gnosc = group_assoc(X = X.loc[I_plot],pred = X.loc[I_plot,'all_pred'].values,\n",
    "                                  split = X.loc[I_plot,'CAD'].astype(bool) , split_name = 'CAD' )\n",
    "plot_list.extend([gs,gnos])\n",
    "name_list.extend(['CAD','No CAD'])"
   ]
  },
  {
   "cell_type": "code",
   "execution_count": null,
   "metadata": {
    "scrolled": true
   },
   "outputs": [],
   "source": [
    "I_plot = hera_samples\n",
    "gs, gnos ,gsc,gnosc = group_assoc(X = X.loc[I_plot],pred = X.loc[I_plot,'pred'].values, \n",
    "                                  split = X.loc[I_plot,'MI'].astype(bool) , split_name = 'MI' )\n",
    "plot_list_hera.extend([gs,gnos])\n",
    "name_list_hera.extend(['MI','No MI'])\n",
    "\n",
    "I_plot = old_samples\n",
    "gs, gnos ,gsc,gnosc = group_assoc(X = X.loc[I_plot],pred = X.loc[I_plot,'old_pred'].values,\n",
    "                                  split = X.loc[I_plot,'MI'].astype(bool) , split_name = 'MI' )\n",
    "I_plot = all_samples\n",
    "gs, gnos ,gsc,gnosc = group_assoc(X = X.loc[I_plot],pred = X.loc[I_plot,'all_pred'].values,\n",
    "                                  split = X.loc[I_plot,'MI'].astype(bool) , split_name = 'MI' )\n",
    "plot_list.extend([gs,gnos])\n",
    "name_list.extend(['MI','No MI'])"
   ]
  },
  {
   "cell_type": "code",
   "execution_count": null,
   "metadata": {
    "scrolled": true
   },
   "outputs": [],
   "source": [
    "I_plot = hera_samples\n",
    "gs, gnos ,gsc,gnosc = group_assoc(X = X.loc[I_plot],pred = X.loc[I_plot,'pred'].values, \n",
    "                                  split = X.loc[I_plot,'cancer'].astype(bool) , split_name = 'cancer' )\n",
    "plot_list_hera.extend([gs,gnos])\n",
    "name_list_hera.extend(['Cancer','No Cancer'])\n",
    "\n",
    "I_plot = old_samples\n",
    "gs, gnos ,gsc,gnosc = group_assoc(X = X.loc[I_plot],pred = X.loc[I_plot,'old_pred'].values,\n",
    "                                  split = X.loc[I_plot,'cancer'].astype(bool) , split_name = 'cancer' )\n",
    "I_plot = all_samples\n",
    "gs, gnos ,gsc,gnosc = group_assoc(X = X.loc[I_plot],pred = X.loc[I_plot,'all_pred'].values,\n",
    "                                  split = X.loc[I_plot,'cancer'].astype(bool) , split_name = 'cancer' )\n",
    "plot_list.extend([gs,gnos])\n",
    "name_list.extend(['Cancer','No Cancer'])"
   ]
  },
  {
   "cell_type": "code",
   "execution_count": null,
   "metadata": {},
   "outputs": [],
   "source": [
    "fig = plt.figure(figsize=[6,4])\n",
    "ax1 = fig.add_subplot(1,1,1)\n",
    "sns.pointplot(data=plot_list[4:],join=False,ax=ax1)\n",
    "ax1.set_xticklabels(name_list[4:],rotation = 30)\n",
    "ax1.set_ylabel('Predicted risk')\n",
    "ax1.set_title('Age and sex matched yes/no groups')\n",
    "plt.grid()\n",
    "plt.savefig(folder+plots+plot_folder+'{}_{}_correlation_disease_binary_y{}.png'.format(endpoint,dataset,k),bbox_inches=\"tight\")"
   ]
  },
  {
   "cell_type": "code",
   "execution_count": null,
   "metadata": {},
   "outputs": [],
   "source": [
    "fig = plt.figure(figsize=[9,4])\n",
    "ax1 = fig.add_subplot(1,1,1)\n",
    "sns.pointplot(data=plot_list_hera,join=False,ax=ax1)\n",
    "ax1.set_xticklabels(name_list_hera, rotation=45)\n",
    "ax1.set_ylabel('Predicted risk')\n",
    "ax1.set_title('Age and sex matched yes/no groups HERA')\n",
    "plt.grid()\n",
    "plt.savefig(folder+plots+plot_folder+'{}_{}_HERA_correlation binary_y{}.png'.format(endpoint,dataset,k),bbox_inches=\"tight\")"
   ]
  },
  {
   "cell_type": "code",
   "execution_count": null,
   "metadata": {},
   "outputs": [],
   "source": [
    "fig = plt.figure(figsize=[4,4])\n",
    "ax1 = fig.add_subplot(1,1,1)\n",
    "sns.pointplot(data=plot_list[:4],join=False,ax=ax1)\n",
    "ax1.set_xticklabels(name_list[:4],rotation = 30)\n",
    "ax1.set_ylabel('Predicted risk')\n",
    "ax1.set_title('Age and sex matched yes/no groups')\n",
    "plt.grid()\n",
    "plt.savefig(folder+plots+plot_folder+'{}_{}_correlation binary_y{}.png'.format(endpoint,dataset,k),bbox_inches=\"tight\")"
   ]
  },
  {
   "cell_type": "markdown",
   "metadata": {},
   "source": [
    "### Other quantitative"
   ]
  },
  {
   "cell_type": "code",
   "execution_count": null,
   "metadata": {},
   "outputs": [],
   "source": [
    "X['nonHDL'] = pn_info['TC'].values - pn_info['HDL'].values\n",
    "X['TC'] = pn_info['TC'].values\n",
    "X['HDL'] = pn_info['HDL'].values\n",
    "X['bmi'] = pn_info['bmi'].values\n",
    "X['ApoB'] = pn_info['ApoB'].values\n",
    "X['statin_potency'] = pn_info.statin_closest_potency.values\n",
    "X['statin'] = pn_info.statin"
   ]
  },
  {
   "cell_type": "code",
   "execution_count": null,
   "metadata": {},
   "outputs": [],
   "source": [
    "qtphen = ['HDL','TC','nonHDL','ApoB','bmi','nonHDL_corr','bmi_corr']\n",
    "qtphen_norm = [p + '_norm' for p in qtphen]\n",
    "\n",
    "covariates = agesex"
   ]
  },
  {
   "cell_type": "code",
   "execution_count": null,
   "metadata": {},
   "outputs": [],
   "source": [
    "I_use = hera_samples"
   ]
  },
  {
   "cell_type": "code",
   "execution_count": null,
   "metadata": {},
   "outputs": [],
   "source": [
    "k=k_plot\n",
    "# pred = pred_dict['{}_y{}_agesexprotein_l1'.format(dataset,k)]\n",
    "\n",
    "# pred = pred.loc[I_use]\n",
    "\n",
    "corr_col = []\n",
    "corr_col.extend(agesex)\n",
    "corr_col.extend(['statin_potency'])\n",
    "X.loc[I_use,'nonHDL_corr']= X.loc[I_use,'nonHDL'] - sm.OLS(X.loc[I_use,'nonHDL'].dropna(),sm.add_constant(X.loc[I_use,corr_col][~X.loc[I_use,'nonHDL'].isna()])).fit().predict(sm.add_constant(X.loc[I_use,corr_col]))\n",
    "corr_col = []\n",
    "corr_col.extend(agesex)\n",
    "X.loc[I_use,'bmi_corr']= X.loc[I_use,'bmi'] - sm.OLS(X.loc[I_use,'bmi'].dropna(),sm.add_constant(X.loc[I_use,corr_col][~X.loc[I_use,'bmi'].isna()])).fit().predict(sm.add_constant(X.loc[I_use,corr_col]))\n",
    "# pred_corr = pred_corr/pred_corr.std()\n",
    "# \n",
    "# X.loc[I_use,'pred_corr_statin'] = pred_corr\n"
   ]
  },
  {
   "cell_type": "code",
   "execution_count": null,
   "metadata": {},
   "outputs": [],
   "source": [
    "out = quantile_transform(np.array(X.loc[I_use,qtphen]), n_quantiles=40000, random_state=10, output_distribution = 'normal',copy=True)\n",
    "# X.loc[I_use][qtphen_norm] "
   ]
  },
  {
   "cell_type": "code",
   "execution_count": null,
   "metadata": {},
   "outputs": [],
   "source": [
    "X = X.merge(pd.DataFrame(out,index = I_use,columns = qtphen_norm),how = 'left',left_index=True, right_index = True)\n",
    "X"
   ]
  },
  {
   "cell_type": "code",
   "execution_count": null,
   "metadata": {},
   "outputs": [],
   "source": [
    "pred_type={'org': 'pred', 'corr': 'pred_corr','std':'pred_std'}\n",
    "ass_df = associations(X=X,col_names=qtphen+qtphen_norm,covariates=covariates, I_use=I_use, pred_type=pred_type,categorical = False)\n",
    "display(ass_df.sort_values('pearson_pval'))\n",
    "if save_plot:\n",
    "    ass_df.sort_values('pearson_pval').to_csv(folder+plots+plot_folder+'{}_{}_associations_Cholesterol_HERA_y{}.txt'.format(endpoint,dataset,k))"
   ]
  },
  {
   "cell_type": "code",
   "execution_count": null,
   "metadata": {},
   "outputs": [],
   "source": [
    "pred_type={'org': 'baseline', 'corr': 'baseline_corr','std':'baseline_std'}\n",
    "ass_df = associations(X=X,col_names=qtphen+qtphen_norm,covariates=covariates, I_use=I_use, pred_type=pred_type,categorical = False)\n",
    "display(ass_df.sort_values('pearson_pval'))"
   ]
  },
  {
   "cell_type": "code",
   "execution_count": null,
   "metadata": {},
   "outputs": [],
   "source": [
    "I_use = old_samples \n",
    "pred_type={'org': 'old_pred', 'corr': 'old_pred_corr','std':'old_pred_std'}\n",
    "ass_df = associations(X=X,col_names=qtphen+qtphen_norm,covariates=covariates, I_use=I_use, pred_type=pred_type,categorical = False)\n",
    "display(ass_df.sort_values('pearson_pval'))"
   ]
  },
  {
   "cell_type": "markdown",
   "metadata": {},
   "source": [
    "#### Use Statins"
   ]
  },
  {
   "cell_type": "code",
   "execution_count": null,
   "metadata": {},
   "outputs": [],
   "source": [
    "I_use = hera_samples.intersection(X[(X['statin']==1)].index)\n",
    "pred_type={'org': 'pred', 'corr': 'pred_corr','std':'pred_std'}\n",
    "ass_df = associations(X=X,col_names=qtphen+qtphen_norm,covariates=covariates, I_use=I_use, pred_type=pred_type,categorical = False)\n",
    "display(ass_df.sort_values('pearson_pval'))\n",
    "if save_plot:\n",
    "    ass_df.sort_values('pearson_pval').to_csv(folder+plots+plot_folder+'{}_{}_associations_Cholesterol_HERAstatin_y{}.txt'.format(endpoint,dataset,k))\n"
   ]
  },
  {
   "cell_type": "code",
   "execution_count": null,
   "metadata": {},
   "outputs": [],
   "source": [
    "# I_use = hera_samples.intersection(X[(X['statin']==1)].index).intersection(all_samples)\n",
    "# pred_type={'org': 'pred', 'corr': 'pred_18105','std':'pred_std'}\n",
    "# ass_df = associations(X=X,col_names=qtphen+qtphen_norm,covariates=covariates, I_use=I_use, pred_type=pred_type,categorical = False)\n",
    "# display(ass_df.sort_values('pearson_pval'))\n",
    "# # ass_df.sort_values('pearson_pval').to_csv(folder+plots+plot_folder+'{}_{}_associations_Cholesterol_HERAstatin_y{}.txt'.format(endpoint,dataset,k))"
   ]
  },
  {
   "cell_type": "code",
   "execution_count": null,
   "metadata": {},
   "outputs": [],
   "source": [
    "I_use = old_samples.intersection(X[(X['statin']==1)].index)\n",
    "pred_type={'org': 'old_pred', 'corr': 'old_pred_corr','std':'old_pred_std'}\n",
    "ass_df = associations(X=X,col_names=qtphen+qtphen_norm,covariates=covariates, I_use=I_use, pred_type=pred_type,categorical = False)\n",
    "display(ass_df.sort_values('pearson_pval'))"
   ]
  },
  {
   "cell_type": "markdown",
   "metadata": {},
   "source": [
    "#### Don't use statins"
   ]
  },
  {
   "cell_type": "code",
   "execution_count": null,
   "metadata": {},
   "outputs": [],
   "source": [
    "I_use = hera_samples.intersection(X[(X['statin']==0)].index)\n",
    "pred_type={'org': 'pred', 'corr': 'pred_corr','std':'pred_std'}\n",
    "ass_df = associations(X=X,col_names=qtphen+qtphen_norm,covariates=covariates, I_use=I_use, pred_type=pred_type,categorical = False)\n",
    "display(ass_df.sort_values('pearson_pval'))\n",
    "if save_plot:\n",
    "    ass_df.sort_values('pearson_pval').to_csv(folder+plots+plot_folder+'{}_{}_associations_Cholesterol_HERAnostatin_y{}.txt'.format(endpoint,dataset,k))\n",
    "\n",
    "I_use = old_samples.intersection(X[(X['statin']==0)].index)\n",
    "pred_type={'org': 'old_pred', 'corr': 'old_pred_corr','std':'old_pred_std'}\n",
    "ass_df = associations(X=X,col_names=qtphen+qtphen_norm,covariates=covariates, I_use=I_use, pred_type=pred_type,categorical = False)\n",
    "display(ass_df.sort_values('pearson_pval'))"
   ]
  },
  {
   "cell_type": "markdown",
   "metadata": {},
   "source": [
    "#### Without heart diesease"
   ]
  },
  {
   "cell_type": "code",
   "execution_count": null,
   "metadata": {},
   "outputs": [],
   "source": [
    "I_use = hera_samples.intersection(X[(X['CAD']==0)].index)\n",
    "pred_type={'org': 'pred', 'corr': 'pred_corr','std':'pred_std'}\n",
    "ass_df = associations(X=X,col_names=qtphen,covariates=covariates, I_use=I_use, pred_type=pred_type,categorical = False, check_age = False)\n",
    "display(ass_df.sort_values('pearson_pval'))\n",
    "\n",
    "I_use = old_samples.intersection(X[(X['CAD']==0)].index)\n",
    "pred_type={'org': 'old_pred', 'corr': 'old_pred_corr','std':'old_pred_std'}\n",
    "ass_df = associations(X=X,col_names=qtphen,covariates=covariates, I_use=I_use, pred_type=pred_type,categorical = False, check_age = False)\n",
    "display(ass_df.sort_values('pearson_pval'))"
   ]
  },
  {
   "cell_type": "markdown",
   "metadata": {},
   "source": [
    "#### ApoB correlations"
   ]
  },
  {
   "cell_type": "code",
   "execution_count": null,
   "metadata": {},
   "outputs": [],
   "source": [
    "X.loc[old_samples,['ApoB','nonHDL']].corr()"
   ]
  },
  {
   "cell_type": "code",
   "execution_count": null,
   "metadata": {},
   "outputs": [],
   "source": [
    "X.loc[hera_samples,['ApoB','nonHDL']].corr()"
   ]
  }
 ],
 "metadata": {
  "kernelspec": {
   "display_name": "Python 3",
   "language": "python",
   "name": "python3"
  },
  "language_info": {
   "codemirror_mode": {
    "name": "ipython",
    "version": 3
   },
   "file_extension": ".py",
   "mimetype": "text/x-python",
   "name": "python",
   "nbconvert_exporter": "python",
   "pygments_lexer": "ipython3",
   "version": "3.6.3"
  }
 },
 "nbformat": 4,
 "nbformat_minor": 4
}
