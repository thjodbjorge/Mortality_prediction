{
 "cells": [
  {
   "cell_type": "code",
   "execution_count": null,
   "metadata": {},
   "outputs": [],
   "source": [
    "import pandas as pd\n",
    "import numpy as np\n",
    "from sklearn.model_selection import train_test_split, KFold\n",
    "import statsmodels.api as sm\n",
    "from sklearn.metrics import accuracy_score, roc_auc_score, recall_score, precision_score, confusion_matrix, log_loss\n",
    "from sklearn.metrics import precision_recall_curve, roc_curve\n",
    "from sklearn.linear_model import LogisticRegression, LogisticRegressionCV\n",
    "from sklearn.preprocessing import QuantileTransformer, PowerTransformer\n",
    "from sklearn.feature_selection import SelectKBest, SelectFromModel, RFE, RFECV, SelectPercentile, SelectFpr, SelectFdr, SelectFwe\n",
    "from sklearn.feature_selection import chi2, f_classif, mutual_info_classif, SelectFdr\n",
    "from sklearn.ensemble import RandomForestClassifier\n",
    "from boruta import BorutaPy\n",
    "import matplotlib.pyplot as plt\n",
    "import pickle\n",
    "from sksurv.metrics import concordance_index_censored\n",
    "from scipy.stats import pearsonr\n",
    "import lifelines as ll\n",
    "# from lifelines.utils.sklearn_adapter import sklearn_adapter\n",
    "# CoxRegression = sklearn_adapter(ll.CoxPHFitter, event_col = 'event')\n",
    "import sys\n",
    "sys.path.append('/odinn/users/thjodbjorge/Python_functions/')\n",
    "import Predict_functions as pf\n",
    "from Calculate_score import calculate_metrics, make_class_table\n",
    "from R_functions import R_pROC,R_pROC_compareROC,R_pROC_compareROC_boot, R_pROC_AUC, R_timeROC, R_timeROC_CI, R_timeROC_pval, R_NRIbin,R_NRIcens,R_NRIcensipw, R_censROC, R_hoslem, R_Greenwood_Nam\n",
    "\n",
    "# qt_proteins = pd.read_csv('/odinn/users/thjodbjorge/Proteomics/Data/protein_data/protein_batchsiteagesexcorr_qt.csv',index_col = 'Barcode2d' )\n",
    "raw_data = pd.read_csv('/odinn/users/thjodbjorge/Proteomics/Data/raw_with_info.csv',index_col = 'Barcode2d' )\n",
    "probe_info = pd.read_csv('/odinn/users/thjodbjorge/Proteomics/Data/probe_info.csv', index_col = 'SeqId')\n",
    "\n",
    "pn_info = pd.read_csv('/odinn/users/thjodbjorge/Proteomics/Data/pn_info_Mor/pn_info_Mor_event.csv',index_col = 'Barcode2d' )\n",
    "probes_to_skip = pd.read_csv('/odinn/users/thjodbjorge/Proteomics/Data/probes_to_skip.txt')['probe']\n",
    "nopro = pd.read_csv('/odinn/users/thjodbjorge/Proteomics/Data/no_protein_probes.txt', header = None)[0] # non-priten probes that were included \n",
    "probes_to_skip = set(probes_to_skip).union(set(nopro))"
   ]
  },
  {
   "cell_type": "code",
   "execution_count": null,
   "metadata": {},
   "outputs": [],
   "source": [
    "folder = '/odinn/users/thjodbjorge/Proteomics/Mortality2/'\n",
    "feat_folder = 'Features2/'\n",
    "pred_folder = 'Predictions3/'\n",
    "plots = 'Plots3/'\n",
    "save_plot = True\n",
    "\n",
    "endpoints = ['death']\n",
    "# endpoints = ['death','Cdeath','Gdeath','Ideath','Jdeath','Otherdeath']\n",
    "# event_date = event_date_death\n",
    "time_to_event = pn_info.time_to_death\n",
    "no_event_before = pn_info.no_death_before\n",
    "for endpoint in endpoints:\n",
    "    if endpoint == 'death':\n",
    "        use_event = pn_info.event_death\n",
    "        print(use_event.sum())\n",
    "    elif endpoint == 'Cdeath':\n",
    "        use_event = pn_info.event_death & (pn_info.ICD_group == 'C')\n",
    "        print(use_event.sum())\n",
    "    elif endpoint == 'Gdeath':\n",
    "        use_event = pn_info.event_death & (pn_info.ICD_group == 'G')\n",
    "        print(use_event.sum())\n",
    "    elif endpoint == 'Ideath':\n",
    "        use_event = pn_info.event_death & (pn_info.ICD_group == 'I')\n",
    "        print(use_event.sum())\n",
    "    elif endpoint == 'Jdeath':\n",
    "        use_event = pn_info.event_death & (pn_info.ICD_group == 'J')\n",
    "        print(use_event.sum())\n",
    "    elif endpoint == 'Otherdeath':\n",
    "        use_event = pn_info.event_death & (~(pn_info.ICD_group == 'C')&~(pn_info.ICD_group == 'G')&~(pn_info.ICD_group == 'I')&~(pn_info.ICD_group == 'J'))\n",
    "        print(use_event.sum())\n",
    "\n",
    "y = []\n",
    "for i in range(1,19):\n",
    "    y.append(use_event & (time_to_event <= i))\n",
    "\n",
    "kf = KFold(n_splits=10, random_state=10, shuffle=False) \n",
    "I_train_main, I_test_main = train_test_split(pn_info.index, train_size=0.7, random_state = 10)\n",
    "# I_val_main, I_test_main = train_test_split(I_test_main, train_size=0.5, random_state = 10)\n",
    "\n",
    "\n",
    "file = open(folder+\"{}_keep_samples.pkl\".format('Mor'),'rb')\n",
    "keep_samples_dict = pickle.load(file)\n",
    "\n",
    "dataset = 'Old_18105'\n"
   ]
  },
  {
   "cell_type": "code",
   "execution_count": null,
   "metadata": {
    "scrolled": true
   },
   "outputs": [],
   "source": [
    "do_prediction = True\n",
    "if do_prediction:\n",
    "\n",
    "    keep_samples = keep_samples_dict[dataset]\n",
    "\n",
    "    I_train = I_train_main.intersection(keep_samples)#.intersection(have_prs)\n",
    "    I_test = I_test_main.intersection(keep_samples)#.intersection(have_prs)\n",
    "\n",
    "    print('Training set: {}, MI within 15: {}, 10: {}, 5: {}, 2: {}'.format(len(I_train),y[14][I_train].sum(),y[9][I_train].sum(),y[4][I_train].sum(),y[1][I_train].sum()))\n",
    "    print('Test set: {}, MI within 15: {}, 10: {}, 5: {}, 2: {}'.format(len(I_test),y[14][I_test].sum(),y[9][I_test].sum(),y[4][I_test].sum(),y[1][I_test].sum()))\n",
    "\n",
    "        # ### Select data and normalize\n",
    "\n",
    "    X = np.log(raw_data.iloc[:,16:].drop(probes_to_skip,axis=1))\n",
    "\n",
    "    all_protein = X.columns\n",
    "    X['sex'] = pn_info[['sex']].values-1\n",
    "    X['age'] = pn_info[['Age_at_sample_collection_2']].values\n",
    "\n",
    "    X['age2'] = X['age']**2\n",
    "#     X['age3'] = X['age']**3\n",
    "    X['agesex'] = X['age']*X['sex']\n",
    "    X['age2sex'] = X['age2']*X['sex']\n",
    "\n",
    "    agesex = ['age','sex','agesex','age2','age2sex']\n",
    "\n",
    "    X['lnage'] = np.log(X['age'])\n",
    "    X['lnage2'] = X['lnage']**2\n",
    "\n",
    "\n",
    "    X['CAD'] = ~pn_info.no_CAD_before\n",
    "    X['MI'] = ~pn_info.no_MI_before\n",
    "    X['ApoB'] = X['SeqId.2797-56']\n",
    "    X['Smoker'] = pn_info['Smoker'].astype(int).values\n",
    "    X['diabetes'] = pn_info['T2D'].astype(int).values\n",
    "    X['HTN_treated'] = pn_info[['HTN_treated']].astype(int).values\n",
    "#     X['statin'] = pn_info['statin'].astype(int).values\n",
    "    X['statin'] = pn_info['statin_estimate_unsure'].astype(int).values\n",
    "    \n",
    "    X['GDF15'] = X['SeqId.4374-45'].copy()\n",
    "    X['GDF152'] = X['GDF15']**2\n",
    "\n",
    "    X['bmi'] = pn_info['bmi']\n",
    "\n",
    "    no_bmi = (X['bmi'].isna())\n",
    "    no_bmi_ind = X[no_bmi].index\n",
    "    X.loc[no_bmi_ind,'bmi'] = X.loc[I_train].bmi.mean()\n",
    "\n",
    "    X['Platelets'] = pn_info['Platelets']\n",
    "    no_p = (X['Platelets'].isna()); print(no_p.sum())\n",
    "    no_p_ind = X[no_p].index\n",
    "    X.loc[no_p_ind,'Platelets'] = X.loc[I_train].Platelets.mean()\n",
    "    X['Platelets2'] = X['Platelets']*X['Platelets']\n",
    "\n",
    "    X['Creatinine'] = pn_info['Creatinine']\n",
    "    no_p = (X['Creatinine'].isna()); print(no_p.sum())\n",
    "    no_p_ind = X[no_p].index\n",
    "    X.loc[no_p_ind,'Creatinine'] = X.loc[I_train].Creatinine.mean()\n",
    "\n",
    "    X['Triglycerides'] = pn_info['Triglycerides']\n",
    "    no_p = (X['Triglycerides'].isna()); print(no_p.sum())\n",
    "    no_p_ind = X[no_p].index\n",
    "    X.loc[no_p_ind,'Triglycerides'] = X.loc[I_train].Triglycerides.mean()    \n",
    "\n",
    "\n",
    "    X['bmiage'] = X['bmi']*X['age']\n",
    "    X['bmisex'] = X['bmi']*X['sex']\n",
    "    X['ApoBage']  = X['ApoB']*X['age']\n",
    "    X['Smokerage'] = X['Smoker']*X['age']\n",
    "    X['diabetesage'] = X['diabetes']*X['age'] \n",
    "    X['statinage'] = X['statin']*X['age']\n",
    "    X['CADage'] = X['CAD']*X['age']\n",
    "    X['MIage'] = X['MI'] * X['age']\n",
    "    X['HTN_treatedage'] =  X['age']*X['HTN_treated']    \n",
    "    X['GDF15age']  = X['GDF15']*X['age']\n",
    "    \n",
    "\n",
    "    X['Plateletsage'] = X['Platelets']*X['age']\n",
    "    X['Creatinineage'] = X['Creatinine']*X['age']\n",
    "    X['Triglyceridesage'] = X['Triglycerides']*X['age']    \n",
    "\n",
    "    X['ApoBsex']  = X['ApoB']*X['sex']\n",
    "    X['Smokersex'] = X['Smoker']*X['sex']\n",
    "    X['diabetessex'] = X['diabetes']*X['sex'] \n",
    "    X['statinsex'] = X['statin']*X['sex']\n",
    "    X['CADsex'] = X['CAD']*X['sex']\n",
    "    X['MIsex'] = X['MI'] * X['sex']\n",
    "    X['HTN_treatedsex'] =  X['sex']*X['HTN_treated']   \n",
    "    X['GDF15sex']  = X['GDF15']*X['sex']\n",
    "\n",
    "    X['Plateletssex'] = X['Platelets']*X['sex']\n",
    "    X['Creatininesex'] = X['Creatinine']*X['sex']\n",
    "    X['Triglyceridessex'] = X['Triglycerides']*X['sex']        \n",
    "\n",
    "    X = X.join(pd.get_dummies(pn_info['agebin'],drop_first = True,prefix='age'))\n",
    "    X['ageage2'] = X['age']*X['age_2.0']\n",
    "    X['ageage3'] = X['age']*X['age_3.0']\n",
    "    X['ageage4'] = X['age']*X['age_4.0']\n",
    "\n",
    "    agebins = ['age_2.0','age_3.0','age_4.0', 'ageage2','ageage3','ageage4']\n",
    "    agebinssex = [s+'sex' for s in agebins]\n",
    "    X[agebinssex] = (X[agebins].transpose()*X['sex']).transpose()    \n",
    "\n",
    "\n",
    "    PRS = ['nonHDL_prs', 'HT_prs', 'CAD_prs', 'Cancer_prs', 'Stroke2_prs', 'alz_Jansen',\n",
    "       'pgc_adhd_2017', 'PD_Nalls_2018', 'edu_160125', 'dep_2018', 'bpd_2018',\n",
    "       'giant_bmi', 'schizo_clozuk', 'iq_2018', 'ipsych_pgc_aut_2017',\n",
    "       'pgc_Anorexia_2019']\n",
    "    X[PRS] = pn_info[PRS]\n",
    "\n",
    "    trad = ['ApoB','Smoker','diabetes','HTN_treated','statin','CAD','MI','bmi']\n",
    "    tradage = ['ApoBage','Smokerage','diabetesage','CADage','MIage','HTN_treatedage','bmiage']\n",
    "    tradsex = ['ApoBsex','Smokersex','diabetessex','CADsex','MIsex','HTN_treatedsex','bmisex']\n",
    "\n",
    "    tradcoxR = ['Smoker','Smokersex','diabetes','diabetesage','HTN_treated','HTN_treatedage','MI','MIage','CAD','bmi','bmiage','statin','statinage']\n",
    "    tradextralog = ['Smokersex','diabetessex','CADage','MIage','HTN_treatedage']\n",
    "    tradblood = ['Creatinine','Triglycerides','Platelets','Platelets2','Plateletsage','Creatinineage','Triglyceridessex']\n",
    "\n",
    "\n",
    "    X_train = X.loc[I_train]\n",
    "    X_test = X.loc[I_test]\n",
    "\n",
    "    train_mean = X_train.mean()\n",
    "    train_std = X_train.std()\n",
    "\n",
    "    X_train = (X_train-train_mean)/train_std\n",
    "    X_test = (X_test-train_mean)/train_std\n",
    "\n",
    "        ## For survival analysis    \n",
    "    X_train['event'] = use_event[I_train]\n",
    "    X_test['event'] = use_event[I_test]\n",
    "\n",
    "    tte_train = time_to_event[I_train]\n",
    "    tte_test = time_to_event[I_test]\n",
    "\n",
    "    ysurv_train = pd.DataFrame()\n",
    "    ysurv_train['event'] = use_event[I_train]\n",
    "    ysurv_train['time_to_event'] = time_to_event[I_train]\n",
    "    \n",
    "#     for k in K:\n",
    "\n"
   ]
  },
  {
   "cell_type": "code",
   "execution_count": null,
   "metadata": {},
   "outputs": [],
   "source": [
    "dataset\n"
   ]
  },
  {
   "cell_type": "code",
   "execution_count": null,
   "metadata": {},
   "outputs": [],
   "source": [
    "k_plot=4\n",
    "k = k_plot\n",
    "y_train = y[k][I_train]\n",
    "y_test = y[k][I_test]"
   ]
  },
  {
   "cell_type": "code",
   "execution_count": null,
   "metadata": {},
   "outputs": [],
   "source": [
    "uni = pd.read_csv(folder+'Univariate2/{}_{}_uni_y{}_table.csv'.format(endpoint,dataset,k),index_col = 'new_ind')"
   ]
  },
  {
   "cell_type": "code",
   "execution_count": null,
   "metadata": {},
   "outputs": [],
   "source": [
    "uni.sort_values('log_beta')"
   ]
  },
  {
   "cell_type": "code",
   "execution_count": null,
   "metadata": {},
   "outputs": [],
   "source": [
    "corr_col = agesex\n",
    "corr_pred = sm.OLS(X[all_protein],sm.add_constant(X[corr_col])).fit().predict(sm.add_constant(X[corr_col]))\n",
    "corr_pred.columns = all_protein\n",
    "corr_pro = X[all_protein] - corr_pred\n",
    "corr_pro = corr_pro/corr_pro.std()"
   ]
  },
  {
   "cell_type": "code",
   "execution_count": null,
   "metadata": {},
   "outputs": [],
   "source": [
    "corr_res = pd.DataFrame(columns = ['correlation','p-value'],index=all_protein)\n",
    "for p in all_protein:\n",
    "    corr_res.loc[p] = (pearsonr(corr_pro.loc[keep_samples,'SeqId.4374-45'],corr_pro.loc[keep_samples,p]))"
   ]
  },
  {
   "cell_type": "code",
   "execution_count": null,
   "metadata": {},
   "outputs": [],
   "source": [
    "corr_res.sort_values('correlation')"
   ]
  },
  {
   "cell_type": "markdown",
   "metadata": {},
   "source": [
    "## Top protein correlations"
   ]
  },
  {
   "cell_type": "code",
   "execution_count": null,
   "metadata": {},
   "outputs": [],
   "source": [
    "orgtop10 = uni.sort_values('log_pval')[:10].index\n",
    "top10 = ['SeqId.'+p for p in orgtop10]\n",
    "\n",
    "orgtop50 = uni.sort_values('log_pval')[:50].index\n",
    "top50 = ['SeqId.'+p for p in orgtop50]"
   ]
  },
  {
   "cell_type": "code",
   "execution_count": null,
   "metadata": {},
   "outputs": [],
   "source": [
    "corr_res.loc[top10]"
   ]
  },
  {
   "cell_type": "code",
   "execution_count": null,
   "metadata": {},
   "outputs": [],
   "source": [
    "(corr_res.correlation > 0.5).sum()"
   ]
  },
  {
   "cell_type": "code",
   "execution_count": null,
   "metadata": {},
   "outputs": [],
   "source": [
    "import seaborn as sns\n",
    "display(corr_pro.loc[keep_samples,top10].corr())\n",
    "sns.heatmap(corr_pro.loc[keep_samples,top10].corr())"
   ]
  },
  {
   "cell_type": "code",
   "execution_count": null,
   "metadata": {},
   "outputs": [],
   "source": [
    "VERY_SMALL_SIZE = 12\n",
    "SMALL_SIZE = 14\n",
    "MEDIUM_SIZE = 16\n",
    "BIGGER_SIZE = 16\n",
    "\n",
    "plt.rc('font', size=SMALL_SIZE)          # controls default text sizes\n",
    "plt.rc('axes', titlesize=BIGGER_SIZE)     # fontsize of the axes title\n",
    "plt.rc('axes', labelsize=MEDIUM_SIZE)    # fontsize of the x and y labels\n",
    "plt.rc('xtick', labelsize=SMALL_SIZE)    # fontsize of the tick labels\n",
    "plt.rc('ytick', labelsize=SMALL_SIZE)    # fontsize of the tick labels\n",
    "plt.rc('legend', fontsize=VERY_SMALL_SIZE)    # legend fontsize\n",
    "plt.rc('figure', titlesize=BIGGER_SIZE) "
   ]
  },
  {
   "cell_type": "code",
   "execution_count": null,
   "metadata": {},
   "outputs": [],
   "source": [
    "plt.figure(figsize = [10,8])\n",
    "sns.heatmap((corr_pro.loc[keep_samples,top10].corr()),vmax=1, xticklabels = probe_info.loc[orgtop10].GeneName, yticklabels = probe_info.loc[orgtop10].GeneName, cmap='viridis',cbar_kws={'label': 'Correlation'})\n",
    "plt.savefig(folder+plots+'Top10proteincorrelationheatmap.png',bbox_inches = 'tight')"
   ]
  },
  {
   "cell_type": "code",
   "execution_count": null,
   "metadata": {},
   "outputs": [],
   "source": [
    "(corr_pro.loc[keep_samples,top50].corr())"
   ]
  },
  {
   "cell_type": "code",
   "execution_count": null,
   "metadata": {},
   "outputs": [],
   "source": [
    "plt.figure(figsize = [15,13])\n",
    "sns.heatmap((corr_pro.loc[keep_samples,top50].corr()),vmax=1, xticklabels = probe_info.loc[orgtop50].GeneName, yticklabels = probe_info.loc[orgtop50].GeneName, cmap='viridis',cbar_kws={'label': 'Correlation'})\n",
    "# plt.savefig(folder+plots+'Top10proteincorrelationheatmap.png',bbox_inches = 'tight')"
   ]
  },
  {
   "cell_type": "code",
   "execution_count": null,
   "metadata": {},
   "outputs": [],
   "source": [
    "X[all_protein]"
   ]
  },
  {
   "cell_type": "code",
   "execution_count": null,
   "metadata": {},
   "outputs": [],
   "source": [
    "correlations = X[all_protein].corr()"
   ]
  },
  {
   "cell_type": "code",
   "execution_count": null,
   "metadata": {},
   "outputs": [],
   "source": [
    "((correlations.mean() - 1/4905 )*(4905/4904)).mean()"
   ]
  },
  {
   "cell_type": "code",
   "execution_count": null,
   "metadata": {},
   "outputs": [],
   "source": [
    "(np.mean([1,1,1,1,1,2]) - 2/6)*6/5"
   ]
  },
  {
   "cell_type": "code",
   "execution_count": null,
   "metadata": {},
   "outputs": [],
   "source": [
    "correlations_corr = corr_pro[all_protein].corr()"
   ]
  },
  {
   "cell_type": "code",
   "execution_count": null,
   "metadata": {},
   "outputs": [],
   "source": [
    "((correlations_corr.mean() - 1/4905 )*(4905/4904)).mean()"
   ]
  },
  {
   "cell_type": "code",
   "execution_count": null,
   "metadata": {},
   "outputs": [],
   "source": [
    "correlations_corr_ks = corr_pro.loc[keep_samples,all_protein].corr()\n",
    "((correlations_corr_ks.mean() - 1/4905 )*(4905/4904)).mean()"
   ]
  },
  {
   "cell_type": "code",
   "execution_count": null,
   "metadata": {},
   "outputs": [],
   "source": []
  }
 ],
 "metadata": {
  "kernelspec": {
   "display_name": "Python 3",
   "language": "python",
   "name": "python3"
  },
  "language_info": {
   "codemirror_mode": {
    "name": "ipython",
    "version": 3
   },
   "file_extension": ".py",
   "mimetype": "text/x-python",
   "name": "python",
   "nbconvert_exporter": "python",
   "pygments_lexer": "ipython3",
   "version": "3.6.3"
  }
 },
 "nbformat": 4,
 "nbformat_minor": 4
}
