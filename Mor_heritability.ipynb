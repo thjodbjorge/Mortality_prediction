{
 "cells": [
  {
   "cell_type": "code",
   "execution_count": null,
   "metadata": {},
   "outputs": [],
   "source": [
    "import pandas as pd\n",
    "import numpy as np\n",
    "from scipy.stats import pearsonr\n",
    "import pickle\n",
    "import statsmodels.api as sm"
   ]
  },
  {
   "cell_type": "code",
   "execution_count": null,
   "metadata": {},
   "outputs": [],
   "source": [
    "folder = '/odinn/users/thjodbjorge/Proteomics/Mortality2/'\n",
    "siblings = pd.read_csv('/odinn/users/thjodbjorge/islbok_siblings', delim_whitespace = True, header = None, names= ['PN','PN1','PN2','yob','yod','sex'], index_col='PN')\n",
    "# Mortality = pd.read_csv('/odinn/users/thjodbjorge/MI/Mortality_risk_proteomics_20_90_wo_pregnant_13012020.txt', delim_whitespace=True,header=None, names=['PN','pred'], index_col = 'PN')\n",
    "# Mortality = pd.read_csv(folder+'Mortality_risk_proteomics_60_105_29062020.txt',index_col='PN')\n",
    "Mortality = pd.read_csv(folder+'Mortality_risk_proteomics_age_18plus_22092020.txt',index_col='PN')\n",
    "pn_info = pd.read_csv('/odinn/users/thjodbjorge/Proteomics/Data/pn_info_2.csv',index_col = 'Barcode2d' )\n",
    "\n",
    "file = open(folder+\"Mor_keep_samples.pkl\",'rb')\n",
    "keep_samples_dict = pickle.load(file)\n",
    "\n",
    "\n",
    "print(Mortality.shape)"
   ]
  },
  {
   "cell_type": "code",
   "execution_count": null,
   "metadata": {},
   "outputs": [],
   "source": [
    "old_dataset = 'Old_18105'\n",
    "new_dataset = 'New_18105'\n",
    "keep_samples = keep_samples_dict[old_dataset].union(keep_samples_dict[new_dataset])\n",
    "print(len(keep_samples))\n",
    "# keep_samples = keep_samples_dict['All_60105']\n",
    "\n",
    "Mortality = Mortality.loc[pn_info.loc[keep_samples,'PN']]\n",
    "print(Mortality.shape)\n",
    "\n",
    "pn_info = pn_info.reset_index().set_index('PN')"
   ]
  },
  {
   "cell_type": "code",
   "execution_count": null,
   "metadata": {},
   "outputs": [],
   "source": [
    "display(pn_info.head())\n",
    "display(siblings.head())\n",
    "display(Mortality.head())\n"
   ]
  },
  {
   "cell_type": "code",
   "execution_count": null,
   "metadata": {},
   "outputs": [],
   "source": [
    "Mortality = pd.merge(Mortality,pn_info[['Age_at_sample_collection_2','sex','yob']], left_index=True,right_index=True, how = 'left') \n",
    "display(Mortality.head())\n",
    "Mortality['age'] = Mortality['Age_at_sample_collection_2']\n",
    "Mortality['age2'] = Mortality['age']**2\n",
    "Mortality['age3'] = Mortality['age']**3\n",
    "Mortality['age4'] = Mortality['age']**4\n",
    "Mortality['lnage'] = np.log(Mortality['age'])\n",
    "Mortality['agesex'] = Mortality['age'] * (Mortality['sex']-1)\n",
    "Mortality['age2sex'] = Mortality['age2'] * (Mortality['sex']-1)\n",
    "Mortality['age3sex'] = Mortality['age3'] * (Mortality['sex']-1)\n",
    "agesex = ['age','age2','agesex','age2sex','sex','age3','lnage','yob']\n",
    "# agesex = ['age','age2','agesex','age2sex','sex','yob']\n",
    "\n",
    "pred_agesex =  sm.OLS(Mortality['pred'].values,sm.add_constant(Mortality[agesex].values)).fit().predict(sm.add_constant(Mortality[agesex].values))\n",
    "Mortality['corr_pred'] = Mortality['pred'] - pred_agesex\n",
    "print(Mortality.shape)\n",
    "Mortality.head()"
   ]
  },
  {
   "cell_type": "code",
   "execution_count": null,
   "metadata": {},
   "outputs": [],
   "source": [
    "print(pearsonr(Mortality['corr_pred'],Mortality.age))\n",
    "print(pearsonr(Mortality['pred'],Mortality.age))\n",
    "print(pearsonr(Mortality['corr_pred'],Mortality.age2))\n",
    "print(pearsonr(Mortality['pred'],Mortality.age2))\n",
    "print(pearsonr(Mortality['corr_pred'],Mortality.age3sex))\n",
    "print(pearsonr(Mortality['pred'],Mortality.age3sex))\n",
    "print('')\n",
    "print(pearsonr(Mortality['corr_pred'],Mortality.age3))\n",
    "print(pearsonr(Mortality['pred'],Mortality.age3))\n",
    "print(pearsonr(Mortality['corr_pred'],Mortality.lnage))\n",
    "print(pearsonr(Mortality['pred'],Mortality.lnage))\n",
    "print(pearsonr(Mortality['corr_pred'],Mortality.yob))\n",
    "print(pearsonr(Mortality['pred'],Mortality.yob))\n",
    "print(pearsonr(Mortality['corr_pred'],Mortality.age4))\n",
    "print(pearsonr(Mortality['pred'],Mortality.age4))"
   ]
  },
  {
   "cell_type": "code",
   "execution_count": null,
   "metadata": {},
   "outputs": [],
   "source": [
    "# Create matrix of all sibling pairs\n",
    "sib_pred = pd.merge(siblings,Mortality, how='inner',left_index=True,right_index=True)\n",
    "sib_pred['siblings'] = sib_pred.groupby(['PN1','PN2']).pred.transform('count')\n",
    "sib_pred = sib_pred[sib_pred['siblings']>1].sort_values(['PN1','PN2'])\n",
    "sib_pred['count_sib'] = sib_pred['siblings']\n",
    "\n",
    "new_data = []\n",
    "new_data_corr = []\n",
    "for i,ind in enumerate(sib_pred.index):\n",
    "    for j in range(1,sib_pred.loc[ind,'count_sib']):\n",
    "        new_data.append([sib_pred.loc[ind,'pred'],sib_pred.iloc[i+j]['pred']])\n",
    "        new_data_corr.append([sib_pred.loc[ind,'corr_pred'],sib_pred.iloc[i+j]['corr_pred']])\n",
    "        indn=sib_pred.iloc[i+j].name\n",
    "        sib_pred.loc[indn,'count_sib'] -= 1\n",
    "#         print(sib_pred.iloc[i+j]['count_sib'])\n",
    "new_data = np.array(new_data)\n",
    "new_data_corr = np.array(new_data_corr)\n",
    "print(sib_pred.shape)\n",
    "print(new_data.shape)"
   ]
  },
  {
   "cell_type": "code",
   "execution_count": null,
   "metadata": {},
   "outputs": [],
   "source": [
    "sib_pred.head(10)"
   ]
  },
  {
   "cell_type": "code",
   "execution_count": null,
   "metadata": {},
   "outputs": [],
   "source": [
    "# Calculate correlation\n",
    "print('Sibling pairs: ', new_data.shape[0])\n",
    "print('Siblings: ' ,pearsonr(new_data[:,0],new_data[:,1]), pearsonr(new_data[:,0],new_data[:,1])[0]*2)\n",
    "print('random samples: ', pearsonr(sib_pred.pred,sib_pred.sample(frac=1).pred), pearsonr(sib_pred.pred,sib_pred.sample(frac=1).pred)[0]*2)\n",
    "\n",
    "print('Better corrected siblings: ' ,pearsonr(new_data_corr[:,0],new_data_corr[:,1]),pearsonr(new_data_corr[:,0],new_data_corr[:,1])[0]*2)\n",
    "\n"
   ]
  },
  {
   "cell_type": "code",
   "execution_count": null,
   "metadata": {},
   "outputs": [],
   "source": [
    "islbok = pd.read_csv('/odinn/users/thjodbjorge/islbok_1900', delim_whitespace = True, header = None, names= ['PN','PN1','PN2','yob','yod','sex'])\n",
    "islbok_pred = pd.merge(islbok,Mortality, how='inner',left_on='PN',right_index=True)"
   ]
  },
  {
   "cell_type": "code",
   "execution_count": null,
   "metadata": {},
   "outputs": [],
   "source": [
    "isl1 = pd.merge(islbok_pred,islbok_pred,left_on = 'PN1', right_on = 'PN', how='inner')\n",
    "isl2 = pd.merge(islbok_pred,islbok_pred,left_on = 'PN2', right_on = 'PN', how='inner')"
   ]
  },
  {
   "cell_type": "code",
   "execution_count": null,
   "metadata": {},
   "outputs": [],
   "source": [
    "isl1.columns"
   ]
  },
  {
   "cell_type": "code",
   "execution_count": null,
   "metadata": {},
   "outputs": [],
   "source": [
    "print(isl1.shape)\n",
    "po_pred = pd.concat([isl1,isl2])\n",
    "po_pred.shape"
   ]
  },
  {
   "cell_type": "code",
   "execution_count": null,
   "metadata": {},
   "outputs": [],
   "source": [
    "print(po_pred.columns)\n",
    "po_pred.head()"
   ]
  },
  {
   "cell_type": "code",
   "execution_count": null,
   "metadata": {},
   "outputs": [],
   "source": [
    "print('Parent offspring pairs: ', po_pred.shape[0])\n",
    "print('parent offspring correlation better corrected pred: ' , pearsonr(po_pred.corr_pred_x,po_pred.corr_pred_y), pearsonr(po_pred.corr_pred_x,po_pred.corr_pred_y)[0]*2)\n",
    "print('parent offspring correlation original correction: ' , pearsonr(po_pred.pred_x,po_pred.pred_y),pearsonr(po_pred.pred_x,po_pred.pred_y)[0]*2)"
   ]
  },
  {
   "cell_type": "code",
   "execution_count": null,
   "metadata": {},
   "outputs": [],
   "source": [
    "print('parent offspring: ' ,pearsonr(po_pred.pred_x,po_pred.yob_x_x))\n",
    "print('parent offspring: ' ,pearsonr(po_pred.pred_x,po_pred.age_x))"
   ]
  },
  {
   "cell_type": "code",
   "execution_count": null,
   "metadata": {},
   "outputs": [],
   "source": [
    "print('parent offspring: ' ,pearsonr(po_pred.corr_pred_x,po_pred.yob_x_x))\n",
    "print('parent offspring: ' ,pearsonr(po_pred.corr_pred_y,po_pred.yob_x_y))\n",
    "print('parent offspring: ' ,pearsonr(po_pred.pred_x,po_pred.yob_x_x))\n",
    "print('parent offspring: ' ,pearsonr(po_pred.pred_y,po_pred.yob_x_y))\n",
    "print('parent offspring: ' ,pearsonr(po_pred.corr_pred_x,po_pred.age_x))\n",
    "print('parent offspring: ' ,pearsonr(po_pred.corr_pred_y,po_pred.age_y))\n",
    "print('parent offspring: ' ,pearsonr(po_pred.pred_x,po_pred.age_x))\n",
    "print('parent offspring: ' ,pearsonr(po_pred.pred_y,po_pred.age_y))"
   ]
  },
  {
   "cell_type": "code",
   "execution_count": null,
   "metadata": {},
   "outputs": [],
   "source": [
    "print(pearsonr(sib_pred.age,sib_pred.pred))\n",
    "print(pearsonr(sib_pred.yob_x,sib_pred.pred))\n",
    "print(pearsonr(sib_pred.age2,sib_pred.pred))"
   ]
  },
  {
   "cell_type": "code",
   "execution_count": null,
   "metadata": {},
   "outputs": [],
   "source": []
  }
 ],
 "metadata": {
  "kernelspec": {
   "display_name": "Python 3",
   "language": "python",
   "name": "python3"
  },
  "language_info": {
   "codemirror_mode": {
    "name": "ipython",
    "version": 3
   },
   "file_extension": ".py",
   "mimetype": "text/x-python",
   "name": "python",
   "nbconvert_exporter": "python",
   "pygments_lexer": "ipython3",
   "version": "3.6.3"
  }
 },
 "nbformat": 4,
 "nbformat_minor": 4
}
